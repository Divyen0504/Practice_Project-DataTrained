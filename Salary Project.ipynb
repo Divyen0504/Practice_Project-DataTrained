{
 "cells": [
  {
   "cell_type": "code",
   "execution_count": 1,
   "id": "6ea0ea1c",
   "metadata": {},
   "outputs": [],
   "source": [
    "import pandas as pd\n",
    "import numpy as np\n",
    "import seaborn as sns\n",
    "import matplotlib.pyplot as plt\n",
    "from sklearn.preprocessing import LabelEncoder\n",
    "\n",
    "from sklearn.linear_model import LinearRegression\n",
    "from sklearn.metrics import mean_squared_error,mean_absolute_error\n",
    "from sklearn.model_selection import train_test_split"
   ]
  },
  {
   "cell_type": "code",
   "execution_count": 3,
   "id": "43d6e1a8",
   "metadata": {},
   "outputs": [
    {
     "data": {
      "text/html": [
       "<div>\n",
       "<style scoped>\n",
       "    .dataframe tbody tr th:only-of-type {\n",
       "        vertical-align: middle;\n",
       "    }\n",
       "\n",
       "    .dataframe tbody tr th {\n",
       "        vertical-align: top;\n",
       "    }\n",
       "\n",
       "    .dataframe thead th {\n",
       "        text-align: right;\n",
       "    }\n",
       "</style>\n",
       "<table border=\"1\" class=\"dataframe\">\n",
       "  <thead>\n",
       "    <tr style=\"text-align: right;\">\n",
       "      <th></th>\n",
       "      <th>rank</th>\n",
       "      <th>discipline</th>\n",
       "      <th>yrs.since.phd</th>\n",
       "      <th>yrs.service</th>\n",
       "      <th>sex</th>\n",
       "      <th>salary</th>\n",
       "    </tr>\n",
       "  </thead>\n",
       "  <tbody>\n",
       "    <tr>\n",
       "      <th>0</th>\n",
       "      <td>Prof</td>\n",
       "      <td>B</td>\n",
       "      <td>19</td>\n",
       "      <td>18</td>\n",
       "      <td>Male</td>\n",
       "      <td>139750</td>\n",
       "    </tr>\n",
       "    <tr>\n",
       "      <th>1</th>\n",
       "      <td>Prof</td>\n",
       "      <td>B</td>\n",
       "      <td>20</td>\n",
       "      <td>16</td>\n",
       "      <td>Male</td>\n",
       "      <td>173200</td>\n",
       "    </tr>\n",
       "    <tr>\n",
       "      <th>2</th>\n",
       "      <td>AsstProf</td>\n",
       "      <td>B</td>\n",
       "      <td>4</td>\n",
       "      <td>3</td>\n",
       "      <td>Male</td>\n",
       "      <td>79750</td>\n",
       "    </tr>\n",
       "    <tr>\n",
       "      <th>3</th>\n",
       "      <td>Prof</td>\n",
       "      <td>B</td>\n",
       "      <td>45</td>\n",
       "      <td>39</td>\n",
       "      <td>Male</td>\n",
       "      <td>115000</td>\n",
       "    </tr>\n",
       "    <tr>\n",
       "      <th>4</th>\n",
       "      <td>Prof</td>\n",
       "      <td>B</td>\n",
       "      <td>40</td>\n",
       "      <td>41</td>\n",
       "      <td>Male</td>\n",
       "      <td>141500</td>\n",
       "    </tr>\n",
       "    <tr>\n",
       "      <th>...</th>\n",
       "      <td>...</td>\n",
       "      <td>...</td>\n",
       "      <td>...</td>\n",
       "      <td>...</td>\n",
       "      <td>...</td>\n",
       "      <td>...</td>\n",
       "    </tr>\n",
       "    <tr>\n",
       "      <th>392</th>\n",
       "      <td>Prof</td>\n",
       "      <td>A</td>\n",
       "      <td>33</td>\n",
       "      <td>30</td>\n",
       "      <td>Male</td>\n",
       "      <td>103106</td>\n",
       "    </tr>\n",
       "    <tr>\n",
       "      <th>393</th>\n",
       "      <td>Prof</td>\n",
       "      <td>A</td>\n",
       "      <td>31</td>\n",
       "      <td>19</td>\n",
       "      <td>Male</td>\n",
       "      <td>150564</td>\n",
       "    </tr>\n",
       "    <tr>\n",
       "      <th>394</th>\n",
       "      <td>Prof</td>\n",
       "      <td>A</td>\n",
       "      <td>42</td>\n",
       "      <td>25</td>\n",
       "      <td>Male</td>\n",
       "      <td>101738</td>\n",
       "    </tr>\n",
       "    <tr>\n",
       "      <th>395</th>\n",
       "      <td>Prof</td>\n",
       "      <td>A</td>\n",
       "      <td>25</td>\n",
       "      <td>15</td>\n",
       "      <td>Male</td>\n",
       "      <td>95329</td>\n",
       "    </tr>\n",
       "    <tr>\n",
       "      <th>396</th>\n",
       "      <td>AsstProf</td>\n",
       "      <td>A</td>\n",
       "      <td>8</td>\n",
       "      <td>4</td>\n",
       "      <td>Male</td>\n",
       "      <td>81035</td>\n",
       "    </tr>\n",
       "  </tbody>\n",
       "</table>\n",
       "<p>397 rows × 6 columns</p>\n",
       "</div>"
      ],
      "text/plain": [
       "         rank discipline  yrs.since.phd  yrs.service   sex  salary\n",
       "0        Prof          B             19           18  Male  139750\n",
       "1        Prof          B             20           16  Male  173200\n",
       "2    AsstProf          B              4            3  Male   79750\n",
       "3        Prof          B             45           39  Male  115000\n",
       "4        Prof          B             40           41  Male  141500\n",
       "..        ...        ...            ...          ...   ...     ...\n",
       "392      Prof          A             33           30  Male  103106\n",
       "393      Prof          A             31           19  Male  150564\n",
       "394      Prof          A             42           25  Male  101738\n",
       "395      Prof          A             25           15  Male   95329\n",
       "396  AsstProf          A              8            4  Male   81035\n",
       "\n",
       "[397 rows x 6 columns]"
      ]
     },
     "execution_count": 3,
     "metadata": {},
     "output_type": "execute_result"
    }
   ],
   "source": [
    "df=pd.read_csv('Salary_Project.csv')\n",
    "df"
   ]
  },
  {
   "cell_type": "code",
   "execution_count": 4,
   "id": "9690f33c",
   "metadata": {},
   "outputs": [
    {
     "data": {
      "text/html": [
       "<div>\n",
       "<style scoped>\n",
       "    .dataframe tbody tr th:only-of-type {\n",
       "        vertical-align: middle;\n",
       "    }\n",
       "\n",
       "    .dataframe tbody tr th {\n",
       "        vertical-align: top;\n",
       "    }\n",
       "\n",
       "    .dataframe thead th {\n",
       "        text-align: right;\n",
       "    }\n",
       "</style>\n",
       "<table border=\"1\" class=\"dataframe\">\n",
       "  <thead>\n",
       "    <tr style=\"text-align: right;\">\n",
       "      <th></th>\n",
       "      <th>rank</th>\n",
       "      <th>discipline</th>\n",
       "      <th>yrs.since.phd</th>\n",
       "      <th>yrs.service</th>\n",
       "      <th>sex</th>\n",
       "      <th>salary</th>\n",
       "    </tr>\n",
       "  </thead>\n",
       "  <tbody>\n",
       "    <tr>\n",
       "      <th>0</th>\n",
       "      <td>Prof</td>\n",
       "      <td>B</td>\n",
       "      <td>19</td>\n",
       "      <td>18</td>\n",
       "      <td>Male</td>\n",
       "      <td>139750</td>\n",
       "    </tr>\n",
       "    <tr>\n",
       "      <th>1</th>\n",
       "      <td>Prof</td>\n",
       "      <td>B</td>\n",
       "      <td>20</td>\n",
       "      <td>16</td>\n",
       "      <td>Male</td>\n",
       "      <td>173200</td>\n",
       "    </tr>\n",
       "    <tr>\n",
       "      <th>2</th>\n",
       "      <td>AsstProf</td>\n",
       "      <td>B</td>\n",
       "      <td>4</td>\n",
       "      <td>3</td>\n",
       "      <td>Male</td>\n",
       "      <td>79750</td>\n",
       "    </tr>\n",
       "    <tr>\n",
       "      <th>3</th>\n",
       "      <td>Prof</td>\n",
       "      <td>B</td>\n",
       "      <td>45</td>\n",
       "      <td>39</td>\n",
       "      <td>Male</td>\n",
       "      <td>115000</td>\n",
       "    </tr>\n",
       "    <tr>\n",
       "      <th>4</th>\n",
       "      <td>Prof</td>\n",
       "      <td>B</td>\n",
       "      <td>40</td>\n",
       "      <td>41</td>\n",
       "      <td>Male</td>\n",
       "      <td>141500</td>\n",
       "    </tr>\n",
       "    <tr>\n",
       "      <th>5</th>\n",
       "      <td>AssocProf</td>\n",
       "      <td>B</td>\n",
       "      <td>6</td>\n",
       "      <td>6</td>\n",
       "      <td>Male</td>\n",
       "      <td>97000</td>\n",
       "    </tr>\n",
       "    <tr>\n",
       "      <th>6</th>\n",
       "      <td>Prof</td>\n",
       "      <td>B</td>\n",
       "      <td>30</td>\n",
       "      <td>23</td>\n",
       "      <td>Male</td>\n",
       "      <td>175000</td>\n",
       "    </tr>\n",
       "    <tr>\n",
       "      <th>7</th>\n",
       "      <td>Prof</td>\n",
       "      <td>B</td>\n",
       "      <td>45</td>\n",
       "      <td>45</td>\n",
       "      <td>Male</td>\n",
       "      <td>147765</td>\n",
       "    </tr>\n",
       "    <tr>\n",
       "      <th>8</th>\n",
       "      <td>Prof</td>\n",
       "      <td>B</td>\n",
       "      <td>21</td>\n",
       "      <td>20</td>\n",
       "      <td>Male</td>\n",
       "      <td>119250</td>\n",
       "    </tr>\n",
       "    <tr>\n",
       "      <th>9</th>\n",
       "      <td>Prof</td>\n",
       "      <td>B</td>\n",
       "      <td>18</td>\n",
       "      <td>18</td>\n",
       "      <td>Female</td>\n",
       "      <td>129000</td>\n",
       "    </tr>\n",
       "  </tbody>\n",
       "</table>\n",
       "</div>"
      ],
      "text/plain": [
       "        rank discipline  yrs.since.phd  yrs.service     sex  salary\n",
       "0       Prof          B             19           18    Male  139750\n",
       "1       Prof          B             20           16    Male  173200\n",
       "2   AsstProf          B              4            3    Male   79750\n",
       "3       Prof          B             45           39    Male  115000\n",
       "4       Prof          B             40           41    Male  141500\n",
       "5  AssocProf          B              6            6    Male   97000\n",
       "6       Prof          B             30           23    Male  175000\n",
       "7       Prof          B             45           45    Male  147765\n",
       "8       Prof          B             21           20    Male  119250\n",
       "9       Prof          B             18           18  Female  129000"
      ]
     },
     "execution_count": 4,
     "metadata": {},
     "output_type": "execute_result"
    }
   ],
   "source": [
    "df.head(10)"
   ]
  },
  {
   "cell_type": "code",
   "execution_count": 5,
   "id": "1ad0e11a",
   "metadata": {},
   "outputs": [
    {
     "data": {
      "text/html": [
       "<div>\n",
       "<style scoped>\n",
       "    .dataframe tbody tr th:only-of-type {\n",
       "        vertical-align: middle;\n",
       "    }\n",
       "\n",
       "    .dataframe tbody tr th {\n",
       "        vertical-align: top;\n",
       "    }\n",
       "\n",
       "    .dataframe thead th {\n",
       "        text-align: right;\n",
       "    }\n",
       "</style>\n",
       "<table border=\"1\" class=\"dataframe\">\n",
       "  <thead>\n",
       "    <tr style=\"text-align: right;\">\n",
       "      <th></th>\n",
       "      <th>rank</th>\n",
       "      <th>discipline</th>\n",
       "      <th>yrs.since.phd</th>\n",
       "      <th>yrs.service</th>\n",
       "      <th>sex</th>\n",
       "      <th>salary</th>\n",
       "    </tr>\n",
       "  </thead>\n",
       "  <tbody>\n",
       "    <tr>\n",
       "      <th>387</th>\n",
       "      <td>Prof</td>\n",
       "      <td>A</td>\n",
       "      <td>29</td>\n",
       "      <td>15</td>\n",
       "      <td>Male</td>\n",
       "      <td>109305</td>\n",
       "    </tr>\n",
       "    <tr>\n",
       "      <th>388</th>\n",
       "      <td>Prof</td>\n",
       "      <td>A</td>\n",
       "      <td>38</td>\n",
       "      <td>36</td>\n",
       "      <td>Male</td>\n",
       "      <td>119450</td>\n",
       "    </tr>\n",
       "    <tr>\n",
       "      <th>389</th>\n",
       "      <td>Prof</td>\n",
       "      <td>A</td>\n",
       "      <td>33</td>\n",
       "      <td>18</td>\n",
       "      <td>Male</td>\n",
       "      <td>186023</td>\n",
       "    </tr>\n",
       "    <tr>\n",
       "      <th>390</th>\n",
       "      <td>Prof</td>\n",
       "      <td>A</td>\n",
       "      <td>40</td>\n",
       "      <td>19</td>\n",
       "      <td>Male</td>\n",
       "      <td>166605</td>\n",
       "    </tr>\n",
       "    <tr>\n",
       "      <th>391</th>\n",
       "      <td>Prof</td>\n",
       "      <td>A</td>\n",
       "      <td>30</td>\n",
       "      <td>19</td>\n",
       "      <td>Male</td>\n",
       "      <td>151292</td>\n",
       "    </tr>\n",
       "    <tr>\n",
       "      <th>392</th>\n",
       "      <td>Prof</td>\n",
       "      <td>A</td>\n",
       "      <td>33</td>\n",
       "      <td>30</td>\n",
       "      <td>Male</td>\n",
       "      <td>103106</td>\n",
       "    </tr>\n",
       "    <tr>\n",
       "      <th>393</th>\n",
       "      <td>Prof</td>\n",
       "      <td>A</td>\n",
       "      <td>31</td>\n",
       "      <td>19</td>\n",
       "      <td>Male</td>\n",
       "      <td>150564</td>\n",
       "    </tr>\n",
       "    <tr>\n",
       "      <th>394</th>\n",
       "      <td>Prof</td>\n",
       "      <td>A</td>\n",
       "      <td>42</td>\n",
       "      <td>25</td>\n",
       "      <td>Male</td>\n",
       "      <td>101738</td>\n",
       "    </tr>\n",
       "    <tr>\n",
       "      <th>395</th>\n",
       "      <td>Prof</td>\n",
       "      <td>A</td>\n",
       "      <td>25</td>\n",
       "      <td>15</td>\n",
       "      <td>Male</td>\n",
       "      <td>95329</td>\n",
       "    </tr>\n",
       "    <tr>\n",
       "      <th>396</th>\n",
       "      <td>AsstProf</td>\n",
       "      <td>A</td>\n",
       "      <td>8</td>\n",
       "      <td>4</td>\n",
       "      <td>Male</td>\n",
       "      <td>81035</td>\n",
       "    </tr>\n",
       "  </tbody>\n",
       "</table>\n",
       "</div>"
      ],
      "text/plain": [
       "         rank discipline  yrs.since.phd  yrs.service   sex  salary\n",
       "387      Prof          A             29           15  Male  109305\n",
       "388      Prof          A             38           36  Male  119450\n",
       "389      Prof          A             33           18  Male  186023\n",
       "390      Prof          A             40           19  Male  166605\n",
       "391      Prof          A             30           19  Male  151292\n",
       "392      Prof          A             33           30  Male  103106\n",
       "393      Prof          A             31           19  Male  150564\n",
       "394      Prof          A             42           25  Male  101738\n",
       "395      Prof          A             25           15  Male   95329\n",
       "396  AsstProf          A              8            4  Male   81035"
      ]
     },
     "execution_count": 5,
     "metadata": {},
     "output_type": "execute_result"
    }
   ],
   "source": [
    "df.tail(10)"
   ]
  },
  {
   "cell_type": "code",
   "execution_count": 6,
   "id": "e8f13ff1",
   "metadata": {},
   "outputs": [
    {
     "data": {
      "text/html": [
       "<div>\n",
       "<style scoped>\n",
       "    .dataframe tbody tr th:only-of-type {\n",
       "        vertical-align: middle;\n",
       "    }\n",
       "\n",
       "    .dataframe tbody tr th {\n",
       "        vertical-align: top;\n",
       "    }\n",
       "\n",
       "    .dataframe thead th {\n",
       "        text-align: right;\n",
       "    }\n",
       "</style>\n",
       "<table border=\"1\" class=\"dataframe\">\n",
       "  <thead>\n",
       "    <tr style=\"text-align: right;\">\n",
       "      <th></th>\n",
       "      <th>rank</th>\n",
       "      <th>discipline</th>\n",
       "      <th>yrs.since.phd</th>\n",
       "      <th>yrs.service</th>\n",
       "      <th>sex</th>\n",
       "      <th>salary</th>\n",
       "    </tr>\n",
       "  </thead>\n",
       "  <tbody>\n",
       "    <tr>\n",
       "      <th>222</th>\n",
       "      <td>AssocProf</td>\n",
       "      <td>B</td>\n",
       "      <td>13</td>\n",
       "      <td>6</td>\n",
       "      <td>Male</td>\n",
       "      <td>107150</td>\n",
       "    </tr>\n",
       "    <tr>\n",
       "      <th>313</th>\n",
       "      <td>Prof</td>\n",
       "      <td>A</td>\n",
       "      <td>35</td>\n",
       "      <td>35</td>\n",
       "      <td>Male</td>\n",
       "      <td>100351</td>\n",
       "    </tr>\n",
       "    <tr>\n",
       "      <th>153</th>\n",
       "      <td>AssocProf</td>\n",
       "      <td>B</td>\n",
       "      <td>12</td>\n",
       "      <td>10</td>\n",
       "      <td>Female</td>\n",
       "      <td>103994</td>\n",
       "    </tr>\n",
       "    <tr>\n",
       "      <th>6</th>\n",
       "      <td>Prof</td>\n",
       "      <td>B</td>\n",
       "      <td>30</td>\n",
       "      <td>23</td>\n",
       "      <td>Male</td>\n",
       "      <td>175000</td>\n",
       "    </tr>\n",
       "    <tr>\n",
       "      <th>78</th>\n",
       "      <td>AsstProf</td>\n",
       "      <td>B</td>\n",
       "      <td>3</td>\n",
       "      <td>1</td>\n",
       "      <td>Male</td>\n",
       "      <td>86100</td>\n",
       "    </tr>\n",
       "  </tbody>\n",
       "</table>\n",
       "</div>"
      ],
      "text/plain": [
       "          rank discipline  yrs.since.phd  yrs.service     sex  salary\n",
       "222  AssocProf          B             13            6    Male  107150\n",
       "313       Prof          A             35           35    Male  100351\n",
       "153  AssocProf          B             12           10  Female  103994\n",
       "6         Prof          B             30           23    Male  175000\n",
       "78    AsstProf          B              3            1    Male   86100"
      ]
     },
     "execution_count": 6,
     "metadata": {},
     "output_type": "execute_result"
    }
   ],
   "source": [
    "df.sample(5)"
   ]
  },
  {
   "cell_type": "code",
   "execution_count": 7,
   "id": "834f0545",
   "metadata": {},
   "outputs": [
    {
     "data": {
      "text/plain": [
       "(397, 6)"
      ]
     },
     "execution_count": 7,
     "metadata": {},
     "output_type": "execute_result"
    }
   ],
   "source": [
    "df.shape"
   ]
  },
  {
   "cell_type": "code",
   "execution_count": 8,
   "id": "c03c945b",
   "metadata": {},
   "outputs": [
    {
     "data": {
      "text/plain": [
       "rank             object\n",
       "discipline       object\n",
       "yrs.since.phd     int64\n",
       "yrs.service       int64\n",
       "sex              object\n",
       "salary            int64\n",
       "dtype: object"
      ]
     },
     "execution_count": 8,
     "metadata": {},
     "output_type": "execute_result"
    }
   ],
   "source": [
    "df.dtypes"
   ]
  },
  {
   "cell_type": "code",
   "execution_count": 9,
   "id": "5c38d32c",
   "metadata": {},
   "outputs": [
    {
     "name": "stdout",
     "output_type": "stream",
     "text": [
      "<class 'pandas.core.frame.DataFrame'>\n",
      "RangeIndex: 397 entries, 0 to 396\n",
      "Data columns (total 6 columns):\n",
      " #   Column         Non-Null Count  Dtype \n",
      "---  ------         --------------  ----- \n",
      " 0   rank           397 non-null    object\n",
      " 1   discipline     397 non-null    object\n",
      " 2   yrs.since.phd  397 non-null    int64 \n",
      " 3   yrs.service    397 non-null    int64 \n",
      " 4   sex            397 non-null    object\n",
      " 5   salary         397 non-null    int64 \n",
      "dtypes: int64(3), object(3)\n",
      "memory usage: 18.7+ KB\n"
     ]
    }
   ],
   "source": [
    "df.info()"
   ]
  },
  {
   "cell_type": "code",
   "execution_count": 10,
   "id": "38a9c162",
   "metadata": {},
   "outputs": [
    {
     "data": {
      "text/html": [
       "<div>\n",
       "<style scoped>\n",
       "    .dataframe tbody tr th:only-of-type {\n",
       "        vertical-align: middle;\n",
       "    }\n",
       "\n",
       "    .dataframe tbody tr th {\n",
       "        vertical-align: top;\n",
       "    }\n",
       "\n",
       "    .dataframe thead th {\n",
       "        text-align: right;\n",
       "    }\n",
       "</style>\n",
       "<table border=\"1\" class=\"dataframe\">\n",
       "  <thead>\n",
       "    <tr style=\"text-align: right;\">\n",
       "      <th></th>\n",
       "      <th>rank</th>\n",
       "      <th>discipline</th>\n",
       "      <th>yrs.since.phd</th>\n",
       "      <th>yrs.service</th>\n",
       "      <th>sex</th>\n",
       "      <th>salary</th>\n",
       "    </tr>\n",
       "  </thead>\n",
       "  <tbody>\n",
       "    <tr>\n",
       "      <th>0</th>\n",
       "      <td>False</td>\n",
       "      <td>False</td>\n",
       "      <td>False</td>\n",
       "      <td>False</td>\n",
       "      <td>False</td>\n",
       "      <td>False</td>\n",
       "    </tr>\n",
       "    <tr>\n",
       "      <th>1</th>\n",
       "      <td>False</td>\n",
       "      <td>False</td>\n",
       "      <td>False</td>\n",
       "      <td>False</td>\n",
       "      <td>False</td>\n",
       "      <td>False</td>\n",
       "    </tr>\n",
       "    <tr>\n",
       "      <th>2</th>\n",
       "      <td>False</td>\n",
       "      <td>False</td>\n",
       "      <td>False</td>\n",
       "      <td>False</td>\n",
       "      <td>False</td>\n",
       "      <td>False</td>\n",
       "    </tr>\n",
       "    <tr>\n",
       "      <th>3</th>\n",
       "      <td>False</td>\n",
       "      <td>False</td>\n",
       "      <td>False</td>\n",
       "      <td>False</td>\n",
       "      <td>False</td>\n",
       "      <td>False</td>\n",
       "    </tr>\n",
       "    <tr>\n",
       "      <th>4</th>\n",
       "      <td>False</td>\n",
       "      <td>False</td>\n",
       "      <td>False</td>\n",
       "      <td>False</td>\n",
       "      <td>False</td>\n",
       "      <td>False</td>\n",
       "    </tr>\n",
       "    <tr>\n",
       "      <th>...</th>\n",
       "      <td>...</td>\n",
       "      <td>...</td>\n",
       "      <td>...</td>\n",
       "      <td>...</td>\n",
       "      <td>...</td>\n",
       "      <td>...</td>\n",
       "    </tr>\n",
       "    <tr>\n",
       "      <th>392</th>\n",
       "      <td>False</td>\n",
       "      <td>False</td>\n",
       "      <td>False</td>\n",
       "      <td>False</td>\n",
       "      <td>False</td>\n",
       "      <td>False</td>\n",
       "    </tr>\n",
       "    <tr>\n",
       "      <th>393</th>\n",
       "      <td>False</td>\n",
       "      <td>False</td>\n",
       "      <td>False</td>\n",
       "      <td>False</td>\n",
       "      <td>False</td>\n",
       "      <td>False</td>\n",
       "    </tr>\n",
       "    <tr>\n",
       "      <th>394</th>\n",
       "      <td>False</td>\n",
       "      <td>False</td>\n",
       "      <td>False</td>\n",
       "      <td>False</td>\n",
       "      <td>False</td>\n",
       "      <td>False</td>\n",
       "    </tr>\n",
       "    <tr>\n",
       "      <th>395</th>\n",
       "      <td>False</td>\n",
       "      <td>False</td>\n",
       "      <td>False</td>\n",
       "      <td>False</td>\n",
       "      <td>False</td>\n",
       "      <td>False</td>\n",
       "    </tr>\n",
       "    <tr>\n",
       "      <th>396</th>\n",
       "      <td>False</td>\n",
       "      <td>False</td>\n",
       "      <td>False</td>\n",
       "      <td>False</td>\n",
       "      <td>False</td>\n",
       "      <td>False</td>\n",
       "    </tr>\n",
       "  </tbody>\n",
       "</table>\n",
       "<p>397 rows × 6 columns</p>\n",
       "</div>"
      ],
      "text/plain": [
       "      rank  discipline  yrs.since.phd  yrs.service    sex  salary\n",
       "0    False       False          False        False  False   False\n",
       "1    False       False          False        False  False   False\n",
       "2    False       False          False        False  False   False\n",
       "3    False       False          False        False  False   False\n",
       "4    False       False          False        False  False   False\n",
       "..     ...         ...            ...          ...    ...     ...\n",
       "392  False       False          False        False  False   False\n",
       "393  False       False          False        False  False   False\n",
       "394  False       False          False        False  False   False\n",
       "395  False       False          False        False  False   False\n",
       "396  False       False          False        False  False   False\n",
       "\n",
       "[397 rows x 6 columns]"
      ]
     },
     "execution_count": 10,
     "metadata": {},
     "output_type": "execute_result"
    }
   ],
   "source": [
    "df.isnull()"
   ]
  },
  {
   "cell_type": "code",
   "execution_count": 11,
   "id": "0d690e7a",
   "metadata": {},
   "outputs": [
    {
     "data": {
      "text/plain": [
       "rank             0\n",
       "discipline       0\n",
       "yrs.since.phd    0\n",
       "yrs.service      0\n",
       "sex              0\n",
       "salary           0\n",
       "dtype: int64"
      ]
     },
     "execution_count": 11,
     "metadata": {},
     "output_type": "execute_result"
    }
   ],
   "source": [
    "df.isnull().sum()"
   ]
  },
  {
   "cell_type": "code",
   "execution_count": 12,
   "id": "f85e264f",
   "metadata": {},
   "outputs": [
    {
     "data": {
      "text/plain": [
       "<AxesSubplot:>"
      ]
     },
     "execution_count": 12,
     "metadata": {},
     "output_type": "execute_result"
    },
    {
     "data": {
      "image/png": "[encoded data removed]",
      "text/plain": [
       "<Figure size 432x288 with 2 Axes>"
      ]
     },
     "metadata": {
      "needs_background": "light"
     },
     "output_type": "display_data"
    }
   ],
   "source": [
    "sns.heatmap(df.isnull())"
   ]
  },
  {
   "cell_type": "markdown",
   "id": "937e911e",
   "metadata": {},
   "source": [
    "There is no null value in the dataset"
   ]
  },
  {
   "cell_type": "code",
   "execution_count": 13,
   "id": "c05a53c7",
   "metadata": {},
   "outputs": [
    {
     "data": {
      "text/plain": [
       "Index(['rank', 'discipline', 'yrs.since.phd', 'yrs.service', 'sex', 'salary'], dtype='object')"
      ]
     },
     "execution_count": 13,
     "metadata": {},
     "output_type": "execute_result"
    }
   ],
   "source": [
    "df.columns"
   ]
  },
  {
   "cell_type": "markdown",
   "id": "ca7fd0af",
   "metadata": {},
   "source": [
    "# About colunms:"
   ]
  },
  {
   "cell_type": "markdown",
   "id": "15420a2d",
   "metadata": {},
   "source": [
    "1.Rank:\n",
    "    \n",
    "    It shows designation or job title of the position.\n",
    "    \n",
    "    \n",
    "2.Decipline:\n",
    "    \n",
    "    It is the branch or practice of training.\n",
    "    \n",
    "    \n",
    "3.yrs.since.phd:\n",
    "    \n",
    "    Years completed after phd.\n",
    "    \n",
    "    \n",
    "4.yrs.service:\n",
    "    \n",
    "    Experience in the same field or work experience.\n",
    "    \n",
    "    \n",
    "5.Sex:\n",
    "    \n",
    "    Gender of the person.\n",
    "    \n",
    "    \n",
    "6.Salary:\n",
    "    \n",
    "    Income.    "
   ]
  },
  {
   "cell_type": "code",
   "execution_count": 14,
   "id": "bd732654",
   "metadata": {},
   "outputs": [
    {
     "data": {
      "text/plain": [
       "<seaborn.axisgrid.PairGrid at 0x1ca69b43a90>"
      ]
     },
     "execution_count": 14,
     "metadata": {},
     "output_type": "execute_result"
    },
    {
     "data": {
      "image/png": "[encoded data removed]",
      "text/plain": [
       "<Figure size 540x540 with 12 Axes>"
      ]
     },
     "metadata": {
      "needs_background": "light"
     },
     "output_type": "display_data"
    }
   ],
   "source": [
    "sns.pairplot(df)"
   ]
  },
  {
   "cell_type": "code",
   "execution_count": 15,
   "id": "fcff456d",
   "metadata": {},
   "outputs": [
    {
     "data": {
      "text/html": [
       "<div>\n",
       "<style scoped>\n",
       "    .dataframe tbody tr th:only-of-type {\n",
       "        vertical-align: middle;\n",
       "    }\n",
       "\n",
       "    .dataframe tbody tr th {\n",
       "        vertical-align: top;\n",
       "    }\n",
       "\n",
       "    .dataframe thead th {\n",
       "        text-align: right;\n",
       "    }\n",
       "</style>\n",
       "<table border=\"1\" class=\"dataframe\">\n",
       "  <thead>\n",
       "    <tr style=\"text-align: right;\">\n",
       "      <th></th>\n",
       "      <th>yrs.since.phd</th>\n",
       "      <th>yrs.service</th>\n",
       "      <th>salary</th>\n",
       "    </tr>\n",
       "  </thead>\n",
       "  <tbody>\n",
       "    <tr>\n",
       "      <th>count</th>\n",
       "      <td>397.000000</td>\n",
       "      <td>397.000000</td>\n",
       "      <td>397.000000</td>\n",
       "    </tr>\n",
       "    <tr>\n",
       "      <th>mean</th>\n",
       "      <td>22.314861</td>\n",
       "      <td>17.614610</td>\n",
       "      <td>113706.458438</td>\n",
       "    </tr>\n",
       "    <tr>\n",
       "      <th>std</th>\n",
       "      <td>12.887003</td>\n",
       "      <td>13.006024</td>\n",
       "      <td>30289.038695</td>\n",
       "    </tr>\n",
       "    <tr>\n",
       "      <th>min</th>\n",
       "      <td>1.000000</td>\n",
       "      <td>0.000000</td>\n",
       "      <td>57800.000000</td>\n",
       "    </tr>\n",
       "    <tr>\n",
       "      <th>25%</th>\n",
       "      <td>12.000000</td>\n",
       "      <td>7.000000</td>\n",
       "      <td>91000.000000</td>\n",
       "    </tr>\n",
       "    <tr>\n",
       "      <th>50%</th>\n",
       "      <td>21.000000</td>\n",
       "      <td>16.000000</td>\n",
       "      <td>107300.000000</td>\n",
       "    </tr>\n",
       "    <tr>\n",
       "      <th>75%</th>\n",
       "      <td>32.000000</td>\n",
       "      <td>27.000000</td>\n",
       "      <td>134185.000000</td>\n",
       "    </tr>\n",
       "    <tr>\n",
       "      <th>max</th>\n",
       "      <td>56.000000</td>\n",
       "      <td>60.000000</td>\n",
       "      <td>231545.000000</td>\n",
       "    </tr>\n",
       "  </tbody>\n",
       "</table>\n",
       "</div>"
      ],
      "text/plain": [
       "       yrs.since.phd  yrs.service         salary\n",
       "count     397.000000   397.000000     397.000000\n",
       "mean       22.314861    17.614610  113706.458438\n",
       "std        12.887003    13.006024   30289.038695\n",
       "min         1.000000     0.000000   57800.000000\n",
       "25%        12.000000     7.000000   91000.000000\n",
       "50%        21.000000    16.000000  107300.000000\n",
       "75%        32.000000    27.000000  134185.000000\n",
       "max        56.000000    60.000000  231545.000000"
      ]
     },
     "execution_count": 15,
     "metadata": {},
     "output_type": "execute_result"
    }
   ],
   "source": [
    "df.describe()"
   ]
  },
  {
   "cell_type": "markdown",
   "id": "435725cb",
   "metadata": {},
   "source": [
    "# Scatterplot:"
   ]
  },
  {
   "cell_type": "code",
   "execution_count": 16,
   "id": "d83293e3",
   "metadata": {},
   "outputs": [
    {
     "data": {
      "text/plain": [
       "<AxesSubplot:xlabel='sex', ylabel='count'>"
      ]
     },
     "execution_count": 16,
     "metadata": {},
     "output_type": "execute_result"
    },
    {
     "data": {
      "image/png": "[encoded data removed]",
      "text/plain": [
       "<Figure size 432x288 with 1 Axes>"
      ]
     },
     "metadata": {
      "needs_background": "light"
     },
     "output_type": "display_data"
    }
   ],
   "source": [
    "sns.countplot(x='sex',data=df)"
   ]
  },
  {
   "cell_type": "markdown",
   "id": "946ce89b",
   "metadata": {},
   "source": [
    "# scatterplot:"
   ]
  },
  {
   "cell_type": "code",
   "execution_count": 17,
   "id": "fdf3afcc",
   "metadata": {},
   "outputs": [
    {
     "data": {
      "text/plain": [
       "<AxesSubplot:xlabel='rank', ylabel='salary'>"
      ]
     },
     "execution_count": 17,
     "metadata": {},
     "output_type": "execute_result"
    },
    {
     "data": {
      "image/png": "[encoded data removed]",
      "text/plain": [
       "<Figure size 432x288 with 1 Axes>"
      ]
     },
     "metadata": {
      "needs_background": "light"
     },
     "output_type": "display_data"
    }
   ],
   "source": [
    "sns.scatterplot(x='rank',y='salary',data=df)"
   ]
  },
  {
   "cell_type": "markdown",
   "id": "28f4bbad",
   "metadata": {},
   "source": [
    "We can see taht prof rank has more salary than asstprof rank and assocprof rank"
   ]
  },
  {
   "cell_type": "code",
   "execution_count": 18,
   "id": "75e28b26",
   "metadata": {},
   "outputs": [
    {
     "data": {
      "text/plain": [
       "<AxesSubplot:xlabel='discipline', ylabel='salary'>"
      ]
     },
     "execution_count": 18,
     "metadata": {},
     "output_type": "execute_result"
    },
    {
     "data": {
      "image/png": "[encoded data removed]",
      "text/plain": [
       "<Figure size 432x288 with 1 Axes>"
      ]
     },
     "metadata": {
      "needs_background": "light"
     },
     "output_type": "display_data"
    }
   ],
   "source": [
    "sns.scatterplot(x='discipline',y='salary',data=df)"
   ]
  },
  {
   "cell_type": "markdown",
   "id": "1072eac9",
   "metadata": {},
   "source": [
    "The salary is eqally disrtibuted between A ans B discipline"
   ]
  },
  {
   "cell_type": "code",
   "execution_count": 19,
   "id": "90b98c3b",
   "metadata": {},
   "outputs": [
    {
     "data": {
      "text/plain": [
       "<AxesSubplot:xlabel='yrs.since.phd', ylabel='salary'>"
      ]
     },
     "execution_count": 19,
     "metadata": {},
     "output_type": "execute_result"
    },
    {
     "data": {
      "image/png": "[encoded data removed]",
      "text/plain": [
       "<Figure size 432x288 with 1 Axes>"
      ]
     },
     "metadata": {
      "needs_background": "light"
     },
     "output_type": "display_data"
    }
   ],
   "source": [
    "sns.scatterplot(x='yrs.since.phd',y='salary',data=df)"
   ]
  },
  {
   "cell_type": "markdown",
   "id": "26b0b2ce",
   "metadata": {},
   "source": [
    "The years of experience growns,salary also increasing but at last there is less salary after 45 years."
   ]
  },
  {
   "cell_type": "code",
   "execution_count": 20,
   "id": "7144922c",
   "metadata": {},
   "outputs": [
    {
     "data": {
      "text/plain": [
       "<AxesSubplot:xlabel='yrs.service', ylabel='salary'>"
      ]
     },
     "execution_count": 20,
     "metadata": {},
     "output_type": "execute_result"
    },
    {
     "data": {
      "image/png": "[encoded data removed]",
      "text/plain": [
       "<Figure size 432x288 with 1 Axes>"
      ]
     },
     "metadata": {
      "needs_background": "light"
     },
     "output_type": "display_data"
    }
   ],
   "source": [
    "sns.scatterplot(x='yrs.service',y='salary',data=df)"
   ]
  },
  {
   "cell_type": "markdown",
   "id": "ca07cb3e",
   "metadata": {},
   "source": [
    "from 0 to 40 years there is more salary but after 40 years the salary is low."
   ]
  },
  {
   "cell_type": "code",
   "execution_count": 21,
   "id": "7c77e76a",
   "metadata": {},
   "outputs": [
    {
     "data": {
      "text/plain": [
       "<AxesSubplot:xlabel='sex', ylabel='salary'>"
      ]
     },
     "execution_count": 21,
     "metadata": {},
     "output_type": "execute_result"
    },
    {
     "data": {
      "image/png": "[encoded data removed]",
      "text/plain": [
       "<Figure size 432x288 with 1 Axes>"
      ]
     },
     "metadata": {
      "needs_background": "light"
     },
     "output_type": "display_data"
    }
   ],
   "source": [
    "sns.scatterplot(x='sex',y='salary',data=df)"
   ]
  },
  {
   "cell_type": "markdown",
   "id": "7dc37a5b",
   "metadata": {},
   "source": [
    "The male are getting more salary than female."
   ]
  },
  {
   "cell_type": "markdown",
   "id": "bcd1a73b",
   "metadata": {},
   "source": [
    "# We will drop the rank,discipline and sex column as it will have no impact on our data"
   ]
  },
  {
   "cell_type": "code",
   "execution_count": 22,
   "id": "c495672c",
   "metadata": {},
   "outputs": [],
   "source": [
    "df.drop(['rank'],axis=1,inplace=True)\n",
    "df.drop(['discipline'],axis=1,inplace=True)\n",
    "df.drop(['sex'],axis=1,inplace=True)"
   ]
  },
  {
   "cell_type": "code",
   "execution_count": 23,
   "id": "a79c4c75",
   "metadata": {},
   "outputs": [
    {
     "data": {
      "text/html": [
       "<div>\n",
       "<style scoped>\n",
       "    .dataframe tbody tr th:only-of-type {\n",
       "        vertical-align: middle;\n",
       "    }\n",
       "\n",
       "    .dataframe tbody tr th {\n",
       "        vertical-align: top;\n",
       "    }\n",
       "\n",
       "    .dataframe thead th {\n",
       "        text-align: right;\n",
       "    }\n",
       "</style>\n",
       "<table border=\"1\" class=\"dataframe\">\n",
       "  <thead>\n",
       "    <tr style=\"text-align: right;\">\n",
       "      <th></th>\n",
       "      <th>yrs.since.phd</th>\n",
       "      <th>yrs.service</th>\n",
       "      <th>salary</th>\n",
       "    </tr>\n",
       "  </thead>\n",
       "  <tbody>\n",
       "    <tr>\n",
       "      <th>0</th>\n",
       "      <td>19</td>\n",
       "      <td>18</td>\n",
       "      <td>139750</td>\n",
       "    </tr>\n",
       "    <tr>\n",
       "      <th>1</th>\n",
       "      <td>20</td>\n",
       "      <td>16</td>\n",
       "      <td>173200</td>\n",
       "    </tr>\n",
       "    <tr>\n",
       "      <th>2</th>\n",
       "      <td>4</td>\n",
       "      <td>3</td>\n",
       "      <td>79750</td>\n",
       "    </tr>\n",
       "    <tr>\n",
       "      <th>3</th>\n",
       "      <td>45</td>\n",
       "      <td>39</td>\n",
       "      <td>115000</td>\n",
       "    </tr>\n",
       "    <tr>\n",
       "      <th>4</th>\n",
       "      <td>40</td>\n",
       "      <td>41</td>\n",
       "      <td>141500</td>\n",
       "    </tr>\n",
       "    <tr>\n",
       "      <th>...</th>\n",
       "      <td>...</td>\n",
       "      <td>...</td>\n",
       "      <td>...</td>\n",
       "    </tr>\n",
       "    <tr>\n",
       "      <th>392</th>\n",
       "      <td>33</td>\n",
       "      <td>30</td>\n",
       "      <td>103106</td>\n",
       "    </tr>\n",
       "    <tr>\n",
       "      <th>393</th>\n",
       "      <td>31</td>\n",
       "      <td>19</td>\n",
       "      <td>150564</td>\n",
       "    </tr>\n",
       "    <tr>\n",
       "      <th>394</th>\n",
       "      <td>42</td>\n",
       "      <td>25</td>\n",
       "      <td>101738</td>\n",
       "    </tr>\n",
       "    <tr>\n",
       "      <th>395</th>\n",
       "      <td>25</td>\n",
       "      <td>15</td>\n",
       "      <td>95329</td>\n",
       "    </tr>\n",
       "    <tr>\n",
       "      <th>396</th>\n",
       "      <td>8</td>\n",
       "      <td>4</td>\n",
       "      <td>81035</td>\n",
       "    </tr>\n",
       "  </tbody>\n",
       "</table>\n",
       "<p>397 rows × 3 columns</p>\n",
       "</div>"
      ],
      "text/plain": [
       "     yrs.since.phd  yrs.service  salary\n",
       "0               19           18  139750\n",
       "1               20           16  173200\n",
       "2                4            3   79750\n",
       "3               45           39  115000\n",
       "4               40           41  141500\n",
       "..             ...          ...     ...\n",
       "392             33           30  103106\n",
       "393             31           19  150564\n",
       "394             42           25  101738\n",
       "395             25           15   95329\n",
       "396              8            4   81035\n",
       "\n",
       "[397 rows x 3 columns]"
      ]
     },
     "execution_count": 23,
     "metadata": {},
     "output_type": "execute_result"
    }
   ],
   "source": [
    "df"
   ]
  },
  {
   "cell_type": "markdown",
   "id": "f3a0b6bb",
   "metadata": {},
   "source": [
    "# Correlation:"
   ]
  },
  {
   "cell_type": "code",
   "execution_count": 24,
   "id": "70fda402",
   "metadata": {},
   "outputs": [
    {
     "data": {
      "text/html": [
       "<div>\n",
       "<style scoped>\n",
       "    .dataframe tbody tr th:only-of-type {\n",
       "        vertical-align: middle;\n",
       "    }\n",
       "\n",
       "    .dataframe tbody tr th {\n",
       "        vertical-align: top;\n",
       "    }\n",
       "\n",
       "    .dataframe thead th {\n",
       "        text-align: right;\n",
       "    }\n",
       "</style>\n",
       "<table border=\"1\" class=\"dataframe\">\n",
       "  <thead>\n",
       "    <tr style=\"text-align: right;\">\n",
       "      <th></th>\n",
       "      <th>yrs.since.phd</th>\n",
       "      <th>yrs.service</th>\n",
       "      <th>salary</th>\n",
       "    </tr>\n",
       "  </thead>\n",
       "  <tbody>\n",
       "    <tr>\n",
       "      <th>yrs.since.phd</th>\n",
       "      <td>1.000000</td>\n",
       "      <td>0.909649</td>\n",
       "      <td>0.419231</td>\n",
       "    </tr>\n",
       "    <tr>\n",
       "      <th>yrs.service</th>\n",
       "      <td>0.909649</td>\n",
       "      <td>1.000000</td>\n",
       "      <td>0.334745</td>\n",
       "    </tr>\n",
       "    <tr>\n",
       "      <th>salary</th>\n",
       "      <td>0.419231</td>\n",
       "      <td>0.334745</td>\n",
       "      <td>1.000000</td>\n",
       "    </tr>\n",
       "  </tbody>\n",
       "</table>\n",
       "</div>"
      ],
      "text/plain": [
       "               yrs.since.phd  yrs.service    salary\n",
       "yrs.since.phd       1.000000     0.909649  0.419231\n",
       "yrs.service         0.909649     1.000000  0.334745\n",
       "salary              0.419231     0.334745  1.000000"
      ]
     },
     "execution_count": 24,
     "metadata": {},
     "output_type": "execute_result"
    }
   ],
   "source": [
    "df.corr()"
   ]
  },
  {
   "cell_type": "code",
   "execution_count": 25,
   "id": "9fdff4ed",
   "metadata": {},
   "outputs": [
    {
     "data": {
      "text/plain": [
       "pandas.core.frame.DataFrame"
      ]
     },
     "execution_count": 25,
     "metadata": {},
     "output_type": "execute_result"
    }
   ],
   "source": [
    "type(df.corr())"
   ]
  },
  {
   "cell_type": "code",
   "execution_count": 26,
   "id": "ac426de0",
   "metadata": {},
   "outputs": [
    {
     "data": {
      "text/plain": [
       "yrs.since.phd    0.419231\n",
       "yrs.service      0.334745\n",
       "salary           1.000000\n",
       "Name: salary, dtype: float64"
      ]
     },
     "execution_count": 26,
     "metadata": {},
     "output_type": "execute_result"
    }
   ],
   "source": [
    "df.corr()['salary']"
   ]
  },
  {
   "cell_type": "code",
   "execution_count": 28,
   "id": "31112329",
   "metadata": {},
   "outputs": [
    {
     "data": {
      "text/plain": [
       "yrs.service      0.334745\n",
       "yrs.since.phd    0.419231\n",
       "salary           1.000000\n",
       "Name: salary, dtype: float64"
      ]
     },
     "execution_count": 28,
     "metadata": {},
     "output_type": "execute_result"
    }
   ],
   "source": [
    "df.corr()['salary'].sort_values()"
   ]
  },
  {
   "cell_type": "markdown",
   "id": "fa195742",
   "metadata": {},
   "source": [
    "# Correlation using heatmap:"
   ]
  },
  {
   "cell_type": "code",
   "execution_count": 30,
   "id": "3f224bf2",
   "metadata": {},
   "outputs": [
    {
     "data": {
      "text/plain": [
       "<AxesSubplot:>"
      ]
     },
     "execution_count": 30,
     "metadata": {},
     "output_type": "execute_result"
    },
    {
     "data": {
      "image/png": "[encoded data removed]",
      "text/plain": [
       "<Figure size 432x288 with 2 Axes>"
      ]
     },
     "metadata": {
      "needs_background": "light"
     },
     "output_type": "display_data"
    }
   ],
   "source": [
    "sns.heatmap(df.corr(),annot=True,linewidths=0.5,linecolor='Black',fmt='.2f')"
   ]
  },
  {
   "cell_type": "markdown",
   "id": "63b8eae2",
   "metadata": {},
   "source": [
    "# Outcomes from Correlation:"
   ]
  },
  {
   "cell_type": "markdown",
   "id": "ad9aa1bd",
   "metadata": {},
   "source": [
    "all the columns of the dataset are positively correlated with the target column\n",
    "\n",
    "1.Decipline has 16 percent correlation with target column which can be considered as a week bond\n",
    "\n",
    "2.Sex has 14 percent correlation with the target column which is weak bond\n",
    "\n",
    "3.yrs.since.service has 13 percent correlation to the target column which is good bond\n",
    "\n",
    "4.yrs.since.phd has 42 percent correlation with target column which can be considered as a strong bond\n",
    "\n",
    "5.salary is our target column\n",
    "\n",
    "Max coorelation yrs.since.phd\n",
    "\n",
    "min correlation descipline"
   ]
  },
  {
   "cell_type": "markdown",
   "id": "6d42711b",
   "metadata": {},
   "source": [
    "# Describing dataset:"
   ]
  },
  {
   "cell_type": "code",
   "execution_count": 32,
   "id": "51c3eab1",
   "metadata": {},
   "outputs": [
    {
     "data": {
      "text/html": [
       "<div>\n",
       "<style scoped>\n",
       "    .dataframe tbody tr th:only-of-type {\n",
       "        vertical-align: middle;\n",
       "    }\n",
       "\n",
       "    .dataframe tbody tr th {\n",
       "        vertical-align: top;\n",
       "    }\n",
       "\n",
       "    .dataframe thead th {\n",
       "        text-align: right;\n",
       "    }\n",
       "</style>\n",
       "<table border=\"1\" class=\"dataframe\">\n",
       "  <thead>\n",
       "    <tr style=\"text-align: right;\">\n",
       "      <th></th>\n",
       "      <th>yrs.since.phd</th>\n",
       "      <th>yrs.service</th>\n",
       "      <th>salary</th>\n",
       "    </tr>\n",
       "  </thead>\n",
       "  <tbody>\n",
       "    <tr>\n",
       "      <th>count</th>\n",
       "      <td>397.000000</td>\n",
       "      <td>397.000000</td>\n",
       "      <td>397.000000</td>\n",
       "    </tr>\n",
       "    <tr>\n",
       "      <th>mean</th>\n",
       "      <td>22.314861</td>\n",
       "      <td>17.614610</td>\n",
       "      <td>113706.458438</td>\n",
       "    </tr>\n",
       "    <tr>\n",
       "      <th>std</th>\n",
       "      <td>12.887003</td>\n",
       "      <td>13.006024</td>\n",
       "      <td>30289.038695</td>\n",
       "    </tr>\n",
       "    <tr>\n",
       "      <th>min</th>\n",
       "      <td>1.000000</td>\n",
       "      <td>0.000000</td>\n",
       "      <td>57800.000000</td>\n",
       "    </tr>\n",
       "    <tr>\n",
       "      <th>25%</th>\n",
       "      <td>12.000000</td>\n",
       "      <td>7.000000</td>\n",
       "      <td>91000.000000</td>\n",
       "    </tr>\n",
       "    <tr>\n",
       "      <th>50%</th>\n",
       "      <td>21.000000</td>\n",
       "      <td>16.000000</td>\n",
       "      <td>107300.000000</td>\n",
       "    </tr>\n",
       "    <tr>\n",
       "      <th>75%</th>\n",
       "      <td>32.000000</td>\n",
       "      <td>27.000000</td>\n",
       "      <td>134185.000000</td>\n",
       "    </tr>\n",
       "    <tr>\n",
       "      <th>max</th>\n",
       "      <td>56.000000</td>\n",
       "      <td>60.000000</td>\n",
       "      <td>231545.000000</td>\n",
       "    </tr>\n",
       "  </tbody>\n",
       "</table>\n",
       "</div>"
      ],
      "text/plain": [
       "       yrs.since.phd  yrs.service         salary\n",
       "count     397.000000   397.000000     397.000000\n",
       "mean       22.314861    17.614610  113706.458438\n",
       "std        12.887003    13.006024   30289.038695\n",
       "min         1.000000     0.000000   57800.000000\n",
       "25%        12.000000     7.000000   91000.000000\n",
       "50%        21.000000    16.000000  107300.000000\n",
       "75%        32.000000    27.000000  134185.000000\n",
       "max        56.000000    60.000000  231545.000000"
      ]
     },
     "execution_count": 32,
     "metadata": {},
     "output_type": "execute_result"
    }
   ],
   "source": [
    "df.describe()"
   ]
  },
  {
   "cell_type": "markdown",
   "id": "82463e0d",
   "metadata": {},
   "source": [
    "yrs of service and yrs.since.phd column,the difference between 1st,2nd and 3rd quartile is not equal"
   ]
  },
  {
   "cell_type": "code",
   "execution_count": 33,
   "id": "dae99c7e",
   "metadata": {},
   "outputs": [
    {
     "data": {
      "image/png": "[encoded data removed]",
      "text/plain": [
       "<Figure size 864x720 with 2 Axes>"
      ]
     },
     "metadata": {
      "needs_background": "light"
     },
     "output_type": "display_data"
    }
   ],
   "source": [
    "plt.figure(figsize=(12,10))\n",
    "sns.heatmap(round(df.describe()[1:].transpose(),2),linewidth=2,annot=True,fmt='f')\n",
    "plt.xticks(fontsize=15)\n",
    "plt.yticks(fontsize=15)\n",
    "plt.title('Variables summery')\n",
    "plt.show()"
   ]
  },
  {
   "cell_type": "markdown",
   "id": "8fafdc8c",
   "metadata": {},
   "source": [
    "# Outcomes from describe dataset:"
   ]
  },
  {
   "cell_type": "markdown",
   "id": "6b0af763",
   "metadata": {},
   "source": [
    "from above plot we are describing mean,std daviation,min and max of dataset which will help us in cleaning dataset further\n",
    "\n",
    "total number of rows in datasets:\n",
    "    \n",
    "    1. 397 rows\n",
    "    \n",
    "    2. 5 columns\n",
    "    \n",
    "Descipline:\n",
    "    \n",
    "    1. Mean=0.54\n",
    "    \n",
    "    2. std.d=0.50\n",
    "    \n",
    "    3. max_value=1.000\n",
    "    \n",
    "    4. min_value=0\n",
    "    \n",
    "yrs.since.phd:\n",
    "    \n",
    "    1. Mean=22.31000\n",
    "    \n",
    "    2. std.d=12.89000\n",
    "    \n",
    "    3. max_value=56.000\n",
    "    \n",
    "    4. min_value=1.000\n",
    "    \n",
    "yrs.since.service:\n",
    "    \n",
    "    1. Mean=17.61000\n",
    "    \n",
    "    2. std.d=13.010000\n",
    "    \n",
    "    3. max_value=60.0000\n",
    "    \n",
    "    4. min_value=13.0000\n",
    "    \n",
    "sex:\n",
    "    \n",
    "    1. Mean=0.90000\n",
    "    \n",
    "    2. std.d=0.300000\n",
    "    \n",
    "    3. max_value=1.000\n",
    "    \n",
    "    4. min_value=0\n",
    "    \n",
    "salary:\n",
    "    \n",
    "    1. Mean=113706.4600\n",
    "    \n",
    "    2. std.d=30289.04000\n",
    "    \n",
    "    3. max_value=231545.000\n",
    "    \n",
    "    4. min_value=57800.00000\n",
    "    \n",
    "salary: This is target data    "
   ]
  },
  {
   "cell_type": "code",
   "execution_count": 34,
   "id": "1d64d109",
   "metadata": {},
   "outputs": [
    {
     "name": "stdout",
     "output_type": "stream",
     "text": [
      "<class 'pandas.core.frame.DataFrame'>\n",
      "RangeIndex: 397 entries, 0 to 396\n",
      "Data columns (total 3 columns):\n",
      " #   Column         Non-Null Count  Dtype\n",
      "---  ------         --------------  -----\n",
      " 0   yrs.since.phd  397 non-null    int64\n",
      " 1   yrs.service    397 non-null    int64\n",
      " 2   salary         397 non-null    int64\n",
      "dtypes: int64(3)\n",
      "memory usage: 9.4 KB\n"
     ]
    }
   ],
   "source": [
    "df.info()"
   ]
  },
  {
   "cell_type": "markdown",
   "id": "ca3c883e",
   "metadata": {},
   "source": [
    "from sbove got we can get data types and memory used by dataframe"
   ]
  },
  {
   "cell_type": "markdown",
   "id": "043eba2b",
   "metadata": {},
   "source": [
    "# Outliers Checking:"
   ]
  },
  {
   "cell_type": "code",
   "execution_count": 35,
   "id": "5c973ca4",
   "metadata": {},
   "outputs": [],
   "source": [
    "import warnings\n",
    "warnings.filterwarnings('ignore')"
   ]
  },
  {
   "cell_type": "code",
   "execution_count": 38,
   "id": "c9406c61",
   "metadata": {},
   "outputs": [
    {
     "data": {
      "image/png": "[encoded data removed]",
      "text/plain": [
       "<Figure size 2160x6480 with 3 Axes>"
      ]
     },
     "metadata": {
      "needs_background": "light"
     },
     "output_type": "display_data"
    }
   ],
   "source": [
    "collist=df.columns.values\n",
    "ncol=30\n",
    "nrows=14\n",
    "plt.figure(figsize=(ncol,ncol*3))\n",
    "for i in range(0,len(collist)):\n",
    "    plt.subplot(nrows,ncol,i+1)\n",
    "    sns.boxplot(data=df[collist[i]],color='green',orient='v')\n",
    "    plt.tight_layout()"
   ]
  },
  {
   "cell_type": "markdown",
   "id": "1e6381c3",
   "metadata": {},
   "source": [
    "There are only few outliers available"
   ]
  },
  {
   "cell_type": "markdown",
   "id": "5a8a09bc",
   "metadata": {},
   "source": [
    "# Skewness:"
   ]
  },
  {
   "cell_type": "code",
   "execution_count": 39,
   "id": "7380726b",
   "metadata": {},
   "outputs": [
    {
     "data": {
      "text/plain": [
       "yrs.since.phd    0.300880\n",
       "yrs.service      0.650569\n",
       "salary           0.714568\n",
       "dtype: float64"
      ]
     },
     "execution_count": 39,
     "metadata": {},
     "output_type": "execute_result"
    }
   ],
   "source": [
    "df.skew()"
   ]
  },
  {
   "cell_type": "markdown",
   "id": "b04e7f9d",
   "metadata": {},
   "source": [
    "There are skewness present in our data"
   ]
  },
  {
   "cell_type": "markdown",
   "id": "b5e0c7fe",
   "metadata": {},
   "source": [
    "# Normal Distribution Curve:"
   ]
  },
  {
   "cell_type": "code",
   "execution_count": 40,
   "id": "6547ca24",
   "metadata": {},
   "outputs": [
    {
     "data": {
      "text/plain": [
       "<AxesSubplot:xlabel='yrs.since.phd', ylabel='Density'>"
      ]
     },
     "execution_count": 40,
     "metadata": {},
     "output_type": "execute_result"
    },
    {
     "data": {
      "image/png": "[encoded data removed]",
      "text/plain": [
       "<Figure size 432x288 with 1 Axes>"
      ]
     },
     "metadata": {
      "needs_background": "light"
     },
     "output_type": "display_data"
    }
   ],
   "source": [
    "sns.distplot(df['yrs.since.phd'])"
   ]
  },
  {
   "cell_type": "markdown",
   "id": "83e931f2",
   "metadata": {},
   "source": [
    "There are some outliers available and it is not normally distributed"
   ]
  },
  {
   "cell_type": "code",
   "execution_count": 41,
   "id": "f22fbd28",
   "metadata": {},
   "outputs": [
    {
     "data": {
      "text/plain": [
       "<AxesSubplot:xlabel='yrs.service', ylabel='Density'>"
      ]
     },
     "execution_count": 41,
     "metadata": {},
     "output_type": "execute_result"
    },
    {
     "data": {
      "image/png": "[encoded data removed]",
      "text/plain": [
       "<Figure size 432x288 with 1 Axes>"
      ]
     },
     "metadata": {
      "needs_background": "light"
     },
     "output_type": "display_data"
    }
   ],
   "source": [
    "sns.distplot(df['yrs.service'])"
   ]
  },
  {
   "cell_type": "markdown",
   "id": "875cb164",
   "metadata": {},
   "source": [
    "The data is not normally distributed, there are some outliers available in data"
   ]
  },
  {
   "cell_type": "code",
   "execution_count": 42,
   "id": "63aff2cc",
   "metadata": {},
   "outputs": [
    {
     "data": {
      "text/plain": [
       "<AxesSubplot:xlabel='salary', ylabel='Density'>"
      ]
     },
     "execution_count": 42,
     "metadata": {},
     "output_type": "execute_result"
    },
    {
     "data": {
      "image/png": "[encoded data removed]",
      "text/plain": [
       "<Figure size 432x288 with 1 Axes>"
      ]
     },
     "metadata": {
      "needs_background": "light"
     },
     "output_type": "display_data"
    }
   ],
   "source": [
    "sns.distplot(df['salary'])"
   ]
  },
  {
   "cell_type": "markdown",
   "id": "1448f123",
   "metadata": {},
   "source": [
    "The data is not normally distributed, there are some outliers available"
   ]
  },
  {
   "cell_type": "markdown",
   "id": "1b0271b4",
   "metadata": {},
   "source": [
    "# Ploting outliers"
   ]
  },
  {
   "cell_type": "code",
   "execution_count": 43,
   "id": "dfa05b0d",
   "metadata": {},
   "outputs": [
    {
     "data": {
      "text/plain": [
       "<AxesSubplot:>"
      ]
     },
     "execution_count": 43,
     "metadata": {},
     "output_type": "execute_result"
    },
    {
     "data": {
      "image/png": "[encoded data removed]",
      "text/plain": [
       "<Figure size 432x288 with 1 Axes>"
      ]
     },
     "metadata": {
      "needs_background": "light"
     },
     "output_type": "display_data"
    }
   ],
   "source": [
    "df['yrs.since.phd'].plot.box()"
   ]
  },
  {
   "cell_type": "markdown",
   "id": "1ebb9acd",
   "metadata": {},
   "source": [
    "No outliers available"
   ]
  },
  {
   "cell_type": "code",
   "execution_count": 44,
   "id": "c9153572",
   "metadata": {},
   "outputs": [
    {
     "data": {
      "text/plain": [
       "<AxesSubplot:>"
      ]
     },
     "execution_count": 44,
     "metadata": {},
     "output_type": "execute_result"
    },
    {
     "data": {
      "image/png": "[encoded data removed]",
      "text/plain": [
       "<Figure size 432x288 with 1 Axes>"
      ]
     },
     "metadata": {
      "needs_background": "light"
     },
     "output_type": "display_data"
    }
   ],
   "source": [
    "df['yrs.service'].plot.box()"
   ]
  },
  {
   "cell_type": "markdown",
   "id": "f0dd515d",
   "metadata": {},
   "source": [
    "Outliers present"
   ]
  },
  {
   "cell_type": "code",
   "execution_count": 45,
   "id": "c9a30aed",
   "metadata": {},
   "outputs": [
    {
     "data": {
      "text/plain": [
       "<AxesSubplot:>"
      ]
     },
     "execution_count": 45,
     "metadata": {},
     "output_type": "execute_result"
    },
    {
     "data": {
      "image/png": "[encoded data removed]",
      "text/plain": [
       "<Figure size 432x288 with 1 Axes>"
      ]
     },
     "metadata": {
      "needs_background": "light"
     },
     "output_type": "display_data"
    }
   ],
   "source": [
    "df['salary'].plot.box()"
   ]
  },
  {
   "cell_type": "markdown",
   "id": "cac97b3d",
   "metadata": {},
   "source": [
    "Outliers present"
   ]
  },
  {
   "cell_type": "markdown",
   "id": "7c5ff3f9",
   "metadata": {},
   "source": [
    "# Normal Distribution shows that data is skewed Removing outliers:"
   ]
  },
  {
   "cell_type": "code",
   "execution_count": 46,
   "id": "7842f032",
   "metadata": {},
   "outputs": [],
   "source": [
    "from scipy.stats import zscore\n",
    "import numpy as np"
   ]
  },
  {
   "cell_type": "code",
   "execution_count": 47,
   "id": "faeaeb2e",
   "metadata": {},
   "outputs": [
    {
     "data": {
      "text/plain": [
       "array([[-0.25754973,  0.02966908,  0.86091884],\n",
       "       [-0.17985426, -0.12429986,  1.96667226],\n",
       "       [-1.42298184, -1.12509795, -1.12249537],\n",
       "       ...,\n",
       "       [ 1.52944617,  0.56856036, -0.39564018],\n",
       "       [ 0.20862311, -0.20128433, -0.60750187],\n",
       "       [-1.11219995, -1.04811348, -1.08001725]])"
      ]
     },
     "execution_count": 47,
     "metadata": {},
     "output_type": "execute_result"
    }
   ],
   "source": [
    "zscore(df)"
   ]
  },
  {
   "cell_type": "code",
   "execution_count": 48,
   "id": "f338586f",
   "metadata": {},
   "outputs": [
    {
     "data": {
      "text/plain": [
       "array([[0.25754973, 0.02966908, 0.86091884],\n",
       "       [0.17985426, 0.12429986, 1.96667226],\n",
       "       [1.42298184, 1.12509795, 1.12249537],\n",
       "       ...,\n",
       "       [1.52944617, 0.56856036, 0.39564018],\n",
       "       [0.20862311, 0.20128433, 0.60750187],\n",
       "       [1.11219995, 1.04811348, 1.08001725]])"
      ]
     },
     "execution_count": 48,
     "metadata": {},
     "output_type": "execute_result"
    }
   ],
   "source": [
    "np.abs(zscore(df))"
   ]
  },
  {
   "cell_type": "code",
   "execution_count": 49,
   "id": "16617205",
   "metadata": {},
   "outputs": [
    {
     "data": {
      "text/plain": [
       "array([[False, False, False],\n",
       "       [False, False, False],\n",
       "       [False, False, False],\n",
       "       ...,\n",
       "       [False, False, False],\n",
       "       [False, False, False],\n",
       "       [False, False, False]])"
      ]
     },
     "execution_count": 49,
     "metadata": {},
     "output_type": "execute_result"
    }
   ],
   "source": [
    "np.abs(zscore(df))<0"
   ]
  },
  {
   "cell_type": "code",
   "execution_count": 50,
   "id": "3e5d0806",
   "metadata": {},
   "outputs": [],
   "source": [
    "z=np.abs(zscore(df))"
   ]
  },
  {
   "cell_type": "code",
   "execution_count": 51,
   "id": "5be6c679",
   "metadata": {},
   "outputs": [
    {
     "data": {
      "text/plain": [
       "(397, 3)"
      ]
     },
     "execution_count": 51,
     "metadata": {},
     "output_type": "execute_result"
    }
   ],
   "source": [
    "z.shape"
   ]
  },
  {
   "cell_type": "code",
   "execution_count": 52,
   "id": "e7a9c813",
   "metadata": {},
   "outputs": [
    {
     "data": {
      "text/plain": [
       "numpy.ndarray"
      ]
     },
     "execution_count": 52,
     "metadata": {},
     "output_type": "execute_result"
    }
   ],
   "source": [
    "type(z)"
   ]
  },
  {
   "cell_type": "code",
   "execution_count": 53,
   "id": "9fd90c9d",
   "metadata": {},
   "outputs": [
    {
     "name": "stdout",
     "output_type": "stream",
     "text": [
      "(array([ 43, 131, 330, 364], dtype=int64), array([2, 1, 1, 2], dtype=int64))\n"
     ]
    }
   ],
   "source": [
    "#if np.abs is not applied\n",
    "#threshold=(-3,3)\n",
    "\n",
    "#if applied np.abs\n",
    "threshold=3\n",
    "#index numbers\n",
    "print(np.where(z>3))"
   ]
  },
  {
   "cell_type": "code",
   "execution_count": 54,
   "id": "c11db752",
   "metadata": {},
   "outputs": [
    {
     "data": {
      "text/plain": [
       "yrs.since.phd        2\n",
       "yrs.service          0\n",
       "salary           72500\n",
       "Name: 127, dtype: int64"
      ]
     },
     "execution_count": 54,
     "metadata": {},
     "output_type": "execute_result"
    }
   ],
   "source": [
    "df.iloc[127]   #at index 127, outliers identified"
   ]
  },
  {
   "cell_type": "code",
   "execution_count": 55,
   "id": "323abe77",
   "metadata": {},
   "outputs": [
    {
     "data": {
      "text/plain": [
       "4"
      ]
     },
     "execution_count": 55,
     "metadata": {},
     "output_type": "execute_result"
    }
   ],
   "source": [
    "len(np.where(z>3)[0])"
   ]
  },
  {
   "cell_type": "code",
   "execution_count": 56,
   "id": "d8f16f3f",
   "metadata": {},
   "outputs": [],
   "source": [
    "df_new=df[(z<3).all(axis=1)]"
   ]
  },
  {
   "cell_type": "code",
   "execution_count": 57,
   "id": "974974e4",
   "metadata": {},
   "outputs": [
    {
     "name": "stdout",
     "output_type": "stream",
     "text": [
      "Old DataFrame (397, 3)\n",
      "New DataFrame (393, 3)\n",
      "total dropped rows 4\n"
     ]
    }
   ],
   "source": [
    "print(\"Old DataFrame\",df.shape)\n",
    "print(\"New DataFrame\", df_new.shape)\n",
    "print(\"total dropped rows\", df.shape[0]-df_new.shape[0])"
   ]
  },
  {
   "cell_type": "markdown",
   "id": "06a11ef6",
   "metadata": {},
   "source": [
    "# Percentage data loss:"
   ]
  },
  {
   "cell_type": "code",
   "execution_count": 58,
   "id": "3bcf0aee",
   "metadata": {},
   "outputs": [
    {
     "name": "stdout",
     "output_type": "stream",
     "text": [
      "10.831234256926953 %\n"
     ]
    }
   ],
   "source": [
    "loss_percent=(397-354)/397*100\n",
    "print(loss_percent, '%')"
   ]
  },
  {
   "cell_type": "markdown",
   "id": "9d1f708e",
   "metadata": {},
   "source": [
    "# Model without outliers is df and model with desired outliers is df_new:"
   ]
  },
  {
   "cell_type": "markdown",
   "id": "41e14f34",
   "metadata": {},
   "source": [
    "Dividing data in feature and vectors:"
   ]
  },
  {
   "cell_type": "code",
   "execution_count": 59,
   "id": "bc62d33e",
   "metadata": {},
   "outputs": [
    {
     "data": {
      "text/html": [
       "<div>\n",
       "<style scoped>\n",
       "    .dataframe tbody tr th:only-of-type {\n",
       "        vertical-align: middle;\n",
       "    }\n",
       "\n",
       "    .dataframe tbody tr th {\n",
       "        vertical-align: top;\n",
       "    }\n",
       "\n",
       "    .dataframe thead th {\n",
       "        text-align: right;\n",
       "    }\n",
       "</style>\n",
       "<table border=\"1\" class=\"dataframe\">\n",
       "  <thead>\n",
       "    <tr style=\"text-align: right;\">\n",
       "      <th></th>\n",
       "      <th>yrs.since.phd</th>\n",
       "      <th>yrs.service</th>\n",
       "      <th>salary</th>\n",
       "    </tr>\n",
       "  </thead>\n",
       "  <tbody>\n",
       "    <tr>\n",
       "      <th>0</th>\n",
       "      <td>19</td>\n",
       "      <td>18</td>\n",
       "      <td>139750</td>\n",
       "    </tr>\n",
       "    <tr>\n",
       "      <th>1</th>\n",
       "      <td>20</td>\n",
       "      <td>16</td>\n",
       "      <td>173200</td>\n",
       "    </tr>\n",
       "    <tr>\n",
       "      <th>2</th>\n",
       "      <td>4</td>\n",
       "      <td>3</td>\n",
       "      <td>79750</td>\n",
       "    </tr>\n",
       "    <tr>\n",
       "      <th>3</th>\n",
       "      <td>45</td>\n",
       "      <td>39</td>\n",
       "      <td>115000</td>\n",
       "    </tr>\n",
       "    <tr>\n",
       "      <th>4</th>\n",
       "      <td>40</td>\n",
       "      <td>41</td>\n",
       "      <td>141500</td>\n",
       "    </tr>\n",
       "    <tr>\n",
       "      <th>...</th>\n",
       "      <td>...</td>\n",
       "      <td>...</td>\n",
       "      <td>...</td>\n",
       "    </tr>\n",
       "    <tr>\n",
       "      <th>392</th>\n",
       "      <td>33</td>\n",
       "      <td>30</td>\n",
       "      <td>103106</td>\n",
       "    </tr>\n",
       "    <tr>\n",
       "      <th>393</th>\n",
       "      <td>31</td>\n",
       "      <td>19</td>\n",
       "      <td>150564</td>\n",
       "    </tr>\n",
       "    <tr>\n",
       "      <th>394</th>\n",
       "      <td>42</td>\n",
       "      <td>25</td>\n",
       "      <td>101738</td>\n",
       "    </tr>\n",
       "    <tr>\n",
       "      <th>395</th>\n",
       "      <td>25</td>\n",
       "      <td>15</td>\n",
       "      <td>95329</td>\n",
       "    </tr>\n",
       "    <tr>\n",
       "      <th>396</th>\n",
       "      <td>8</td>\n",
       "      <td>4</td>\n",
       "      <td>81035</td>\n",
       "    </tr>\n",
       "  </tbody>\n",
       "</table>\n",
       "<p>393 rows × 3 columns</p>\n",
       "</div>"
      ],
      "text/plain": [
       "     yrs.since.phd  yrs.service  salary\n",
       "0               19           18  139750\n",
       "1               20           16  173200\n",
       "2                4            3   79750\n",
       "3               45           39  115000\n",
       "4               40           41  141500\n",
       "..             ...          ...     ...\n",
       "392             33           30  103106\n",
       "393             31           19  150564\n",
       "394             42           25  101738\n",
       "395             25           15   95329\n",
       "396              8            4   81035\n",
       "\n",
       "[393 rows x 3 columns]"
      ]
     },
     "execution_count": 59,
     "metadata": {},
     "output_type": "execute_result"
    }
   ],
   "source": [
    "df_new"
   ]
  },
  {
   "cell_type": "code",
   "execution_count": 79,
   "id": "10a08c03",
   "metadata": {},
   "outputs": [],
   "source": [
    "#independent column\n",
    "x=df_new.iloc[:,:-1]"
   ]
  },
  {
   "cell_type": "code",
   "execution_count": 80,
   "id": "2974ee0b",
   "metadata": {},
   "outputs": [],
   "source": [
    "#target\n",
    "y=df_new.iloc[:,-1]"
   ]
  },
  {
   "cell_type": "markdown",
   "id": "58c61556",
   "metadata": {},
   "source": [
    "# Transforming data to remove skeness:"
   ]
  },
  {
   "cell_type": "code",
   "execution_count": 83,
   "id": "cab29560",
   "metadata": {},
   "outputs": [],
   "source": [
    "from sklearn.preprocessing import power_transform"
   ]
  },
  {
   "cell_type": "code",
   "execution_count": 84,
   "id": "226db049",
   "metadata": {},
   "outputs": [],
   "source": [
    "x=power_transform(x,method='yeo-johnson')"
   ]
  },
  {
   "cell_type": "code",
   "execution_count": 85,
   "id": "80178e59",
   "metadata": {},
   "outputs": [
    {
     "data": {
      "text/plain": [
       "array([[-0.15290163,  0.23223044],\n",
       "       [-0.07447466,  0.0809807 ],\n",
       "       [-1.5705698 , -1.26175156],\n",
       "       [ 1.66446805,  1.51138204],\n",
       "       [ 1.34422101,  1.61368852],\n",
       "       [-1.33290195, -0.85134936],\n",
       "       [ 0.66662121,  0.58121775],\n",
       "       [ 1.66446805,  1.81134673],\n",
       "       [ 0.0030704 ,  0.37639717],\n",
       "       [-0.23232996,  0.23223044],\n",
       "       [-0.73822331, -0.62843259],\n",
       "       [-1.22379571, -1.43488907],\n",
       "       [-2.01600086, -1.64369183],\n",
       "       [-1.84902932, -1.9239852 ],\n",
       "       [-0.07447466,  0.23223044],\n",
       "       [-0.73822331, -1.26175156],\n",
       "       [-0.15290163,  0.37639717],\n",
       "       [ 1.21291753,  1.24406729],\n",
       "       [ 1.14652797,  0.58121775],\n",
       "       [ 1.27881067,  1.35309779],\n",
       "       [ 0.73692212,  0.77431674],\n",
       "       [ 1.07962775,  1.07467463],\n",
       "       [ 0.94423516,  1.01651528],\n",
       "       [ 0.23087178,  0.30514094],\n",
       "       [-0.64952261, -0.62843259],\n",
       "       [ 0.0030704 , -0.62843259],\n",
       "       [ 1.01220199,  0.58121775],\n",
       "       [-1.44798257, -1.26175156],\n",
       "       [-0.82922364, -1.9239852 ],\n",
       "       [-0.73822331, -0.62843259],\n",
       "       [-0.07447466, -1.11082322],\n",
       "       [-1.22379571, -1.43488907],\n",
       "       [-0.64952261, -0.52648424],\n",
       "       [-1.5705698 , -1.43488907],\n",
       "       [-1.5705698 , -1.43488907],\n",
       "       [-1.44798257, -1.9239852 ],\n",
       "       [ 0.07979666,  0.44610159],\n",
       "       [-1.22379571, -1.11082322],\n",
       "       [ 1.40916159,  1.07467463],\n",
       "       [-1.01946985, -0.52648424],\n",
       "       [ 0.15572368, -1.43488907],\n",
       "       [ 0.15572368,  0.58121775],\n",
       "       [ 1.34422101,  0.83639321],\n",
       "       [-0.15290163,  0.30514094],\n",
       "       [ 0.3052625 ,  0.00237613],\n",
       "       [ 1.34422101,  0.89741909],\n",
       "       [ 0.15572368,  0.30514094],\n",
       "       [ 0.3052625 ,  0.71113548],\n",
       "       [-2.01600086, -1.64369183],\n",
       "       [ 0.5241104 ,  0.89741909],\n",
       "       [-0.73822331, -0.33673649],\n",
       "       [-0.82922364, -1.26175156],\n",
       "       [-0.39472362, -0.52648424],\n",
       "       [-0.73822331, -0.33673649],\n",
       "       [-0.56285331, -0.97534158],\n",
       "       [ 0.15572368,  0.44610159],\n",
       "       [-1.01946985, -0.62843259],\n",
       "       [-0.92284322, -0.52648424],\n",
       "       [-1.11958403, -1.26175156],\n",
       "       [-1.01946985, -0.62843259],\n",
       "       [-1.70297782, -1.43488907],\n",
       "       [ 0.87571101,  1.07467463],\n",
       "       [-0.82922364, -0.33673649],\n",
       "       [-1.5705698 , -1.26175156],\n",
       "       [-1.01946985, -0.62843259],\n",
       "       [ 0.07979666, -0.2476084 ],\n",
       "       [ 1.01220199,  1.07467463],\n",
       "       [-0.31289013,  0.15755228],\n",
       "       [ 0.5241104 ,  1.35309779],\n",
       "       [-0.31289013, -1.43488907],\n",
       "       [ 1.66446805,  1.81134673],\n",
       "       [ 0.59569062,  0.30514094],\n",
       "       [ 1.01220199,  1.24406729],\n",
       "       [ 0.5241104 ,  0.58121775],\n",
       "       [-1.11958403, -1.26175156],\n",
       "       [-0.31289013, -1.26175156],\n",
       "       [ 0.37891785,  0.30514094],\n",
       "       [-1.70297782, -1.64369183],\n",
       "       [-1.33290195, -1.43488907],\n",
       "       [ 1.53768282,  0.89741909],\n",
       "       [-0.31289013,  0.0809807 ],\n",
       "       [ 0.07979666,  0.37639717],\n",
       "       [-1.33290195, -1.43488907],\n",
       "       [-0.31289013,  0.23223044],\n",
       "       [-0.47798647, -0.07841836],\n",
       "       [ 1.14652797,  1.40653422],\n",
       "       [-1.84902932, -1.43488907],\n",
       "       [ 0.3052625 ,  0.71113548],\n",
       "       [-1.01946985, -0.73629791],\n",
       "       [-0.92284322, -0.97534158],\n",
       "       [-0.92284322, -0.73629791],\n",
       "       [-0.92284322, -0.73629791],\n",
       "       [ 1.21291753,  1.45928734],\n",
       "       [ 0.0030704 ,  0.37639717],\n",
       "       [-1.5705698 , -1.9239852 ],\n",
       "       [-0.31289013, -0.2476084 ],\n",
       "       [-0.64952261, -0.73629791],\n",
       "       [ 0.66662121, -0.07841836],\n",
       "       [ 1.40916159,  0.77431674],\n",
       "       [ 1.47364487,  0.71113548],\n",
       "       [ 0.5241104 ,  0.58121775],\n",
       "       [-0.39472362, -0.97534158],\n",
       "       [-0.07447466, -0.07841836],\n",
       "       [-0.23232996, -0.42949882],\n",
       "       [ 0.73692212,  0.89741909],\n",
       "       [-0.82922364, -0.62843259],\n",
       "       [-0.92284322, -0.62843259],\n",
       "       [-0.47798647, -0.62843259],\n",
       "       [ 1.34422101,  1.07467463],\n",
       "       [-0.07447466,  0.0809807 ],\n",
       "       [-0.15290163,  0.0809807 ],\n",
       "       [-1.70297782, -1.64369183],\n",
       "       [ 1.14652797,  1.40653422],\n",
       "       [-0.73822331, -1.9239852 ],\n",
       "       [ 0.0030704 , -0.52648424],\n",
       "       [ 0.66662121,  0.95744438],\n",
       "       [ 1.27881067,  1.35309779],\n",
       "       [-1.5705698 , -1.64369183],\n",
       "       [-1.44798257, -1.26175156],\n",
       "       [-0.56285331, -0.07841836],\n",
       "       [ 0.80661256,  1.13196217],\n",
       "       [ 0.23087178,  0.51434702],\n",
       "       [ 0.3052625 ,  0.51434702],\n",
       "       [ 0.23087178,  0.51434702],\n",
       "       [ 2.21567335,  2.0006785 ],\n",
       "       [ 0.5241104 ,  0.77431674],\n",
       "       [-1.84902932, -1.9239852 ],\n",
       "       [ 0.80661256,  1.01651528],\n",
       "       [-1.5705698 , -1.43488907],\n",
       "       [-0.82922364, -0.52648424],\n",
       "       [-0.92284322, -0.62843259],\n",
       "       [-1.70297782, -1.64369183],\n",
       "       [ 1.01220199,  0.71113548],\n",
       "       [-0.07447466,  0.23223044],\n",
       "       [-0.39472362, -0.07841836],\n",
       "       [-0.31289013, -0.07841836],\n",
       "       [-0.92284322, -0.73629791],\n",
       "       [ 0.0030704 ,  0.23223044],\n",
       "       [-0.56285331, -0.62843259],\n",
       "       [-0.47798647, -0.42949882],\n",
       "       [-0.15290163, -0.33673649],\n",
       "       [-1.70297782, -1.26175156],\n",
       "       [ 0.4518599 ,  0.83639321],\n",
       "       [ 0.5241104 ,  0.89741909],\n",
       "       [-1.5705698 , -1.11082322],\n",
       "       [ 0.4518599 ,  0.83639321],\n",
       "       [ 1.07962775,  0.77431674],\n",
       "       [-1.5705698 , -1.26175156],\n",
       "       [-0.56285331, -0.2476084 ],\n",
       "       [-1.5705698 , -1.11082322],\n",
       "       [ 0.0030704 , -0.52648424],\n",
       "       [-0.73822331, -0.42949882],\n",
       "       [-1.5705698 , -1.9239852 ],\n",
       "       [ 0.0030704 ,  0.44610159],\n",
       "       [-0.73822331,  0.23223044],\n",
       "       [-2.01600086, -1.9239852 ],\n",
       "       [-1.33290195, -0.85134936],\n",
       "       [-0.47798647,  0.0809807 ],\n",
       "       [-1.84902932, -1.43488907],\n",
       "       [ 0.37891785,  0.30514094],\n",
       "       [ 0.07979666, -0.73629791],\n",
       "       [-1.70297782, -1.26175156],\n",
       "       [-2.01600086, -1.9239852 ],\n",
       "       [ 0.0030704 , -0.62843259],\n",
       "       [-0.39472362,  0.0809807 ],\n",
       "       [-0.23232996,  0.30514094],\n",
       "       [-1.11958403, -0.85134936],\n",
       "       [ 0.3052625 ,  0.23223044],\n",
       "       [-1.44798257, -0.97534158],\n",
       "       [-0.15290163,  0.30514094],\n",
       "       [ 1.14652797,  0.64679054],\n",
       "       [-0.07447466,  0.37639717],\n",
       "       [-0.31289013, -0.85134936],\n",
       "       [ 0.5241104 ,  0.71113548],\n",
       "       [-0.92284322, -0.73629791],\n",
       "       [-0.64952261, -0.52648424],\n",
       "       [ 0.4518599 , -0.07841836],\n",
       "       [-1.70297782, -1.26175156],\n",
       "       [-0.82922364, -0.33673649],\n",
       "       [-0.23232996, -0.97534158],\n",
       "       [-1.11958403, -0.62843259],\n",
       "       [ 0.37891785,  0.51434702],\n",
       "       [ 0.15572368,  0.58121775],\n",
       "       [ 0.87571101,  1.01651528],\n",
       "       [-0.64952261, -0.42949882],\n",
       "       [-0.23232996, -0.42949882],\n",
       "       [ 0.5241104 ,  0.89741909],\n",
       "       [ 0.3052625 ,  0.30514094],\n",
       "       [ 0.07979666, -0.52648424],\n",
       "       [ 1.53768282,  0.51434702],\n",
       "       [-0.15290163,  0.23223044],\n",
       "       [-0.15290163,  0.30514094],\n",
       "       [ 1.85157723,  2.18263277],\n",
       "       [-1.01946985, -0.73629791],\n",
       "       [-1.5705698 , -1.11082322],\n",
       "       [-1.5705698 , -1.11082322],\n",
       "       [ 0.94423516,  1.1884149 ],\n",
       "       [ 1.21291753,  0.51434702],\n",
       "       [-1.5705698 , -1.11082322],\n",
       "       [ 1.34422101,  1.56284174],\n",
       "       [ 0.5241104 ,  0.15755228],\n",
       "       [-0.31289013,  0.15755228],\n",
       "       [-0.15290163, -0.97534158],\n",
       "       [ 0.0030704 , -1.43488907],\n",
       "       [ 1.01220199,  1.1884149 ],\n",
       "       [-0.23232996,  0.23223044],\n",
       "       [-1.22379571, -1.43488907],\n",
       "       [-0.07447466,  0.37639717],\n",
       "       [-1.5705698 , -1.26175156],\n",
       "       [ 1.27881067,  1.51138204],\n",
       "       [-0.47798647, -0.73629791],\n",
       "       [ 0.37891785,  0.30514094],\n",
       "       [-0.82922364, -1.64369183],\n",
       "       [-0.39472362, -0.33673649],\n",
       "       [-0.47798647, -0.33673649],\n",
       "       [ 0.59569062,  0.51434702],\n",
       "       [-0.56285331, -0.73629791],\n",
       "       [-0.64952261, -0.33673649],\n",
       "       [ 0.0030704 ,  0.44610159],\n",
       "       [ 0.15572368, -0.42949882],\n",
       "       [-0.64952261, -0.85134936],\n",
       "       [ 0.94423516,  0.37639717],\n",
       "       [ 1.21291753,  1.29895155],\n",
       "       [-0.07447466,  0.37639717],\n",
       "       [-1.70297782, -1.64369183],\n",
       "       [-1.01946985, -0.73629791],\n",
       "       [-0.39472362, -0.33673649],\n",
       "       [ 1.27881067,  1.45928734],\n",
       "       [ 0.59569062,  0.83639321],\n",
       "       [ 0.37891785,  0.64679054],\n",
       "       [ 1.21291753,  0.30514094],\n",
       "       [ 1.07962775,  0.30514094],\n",
       "       [-1.11958403, -1.26175156],\n",
       "       [ 0.5241104 ,  0.15755228],\n",
       "       [ 0.3052625 ,  0.71113548],\n",
       "       [-1.22379571, -0.85134936],\n",
       "       [ 1.72723682,  1.56284174],\n",
       "       [-0.15290163, -0.85134936],\n",
       "       [-1.44798257, -1.26175156],\n",
       "       [ 0.73692212,  1.01651528],\n",
       "       [ 1.21291753,  1.40653422],\n",
       "       [ 0.15572368,  0.58121775],\n",
       "       [-0.15290163,  0.58121775],\n",
       "       [-0.31289013, -0.33673649],\n",
       "       [ 0.66662121,  0.58121775],\n",
       "       [ 0.0030704 ,  0.23223044],\n",
       "       [ 0.5241104 ,  0.58121775],\n",
       "       [ 0.59569062, -0.73629791],\n",
       "       [ 1.27881067,  1.51138204],\n",
       "       [-0.07447466, -0.62843259],\n",
       "       [ 0.73692212, -0.2476084 ],\n",
       "       [-1.5705698 , -1.43488907],\n",
       "       [ 0.5241104 , -0.73629791],\n",
       "       [-0.73822331, -0.62843259],\n",
       "       [ 0.07979666,  0.51434702],\n",
       "       [ 0.66662121,  0.58121775],\n",
       "       [-1.01946985, -1.26175156],\n",
       "       [ 0.80661256,  1.01651528],\n",
       "       [ 1.40916159,  1.1884149 ],\n",
       "       [ 1.66446805,  1.81134673],\n",
       "       [ 0.73692212,  0.77431674],\n",
       "       [ 0.73692212,  1.07467463],\n",
       "       [ 1.14652797,  1.29895155],\n",
       "       [ 1.07962775,  1.01651528],\n",
       "       [ 1.53768282,  1.71362559],\n",
       "       [-0.56285331, -0.42949882],\n",
       "       [ 1.78960332,  1.7627542 ],\n",
       "       [-0.64952261, -0.73629791],\n",
       "       [ 1.47364487,  1.56284174],\n",
       "       [ 1.47364487,  0.23223044],\n",
       "       [-1.5705698 , -1.64369183],\n",
       "       [-1.11958403, -1.11082322],\n",
       "       [-1.11958403, -1.26175156],\n",
       "       [-0.73822331, -0.85134936],\n",
       "       [ 2.09572789,  1.95407107],\n",
       "       [ 0.73692212,  0.83639321],\n",
       "       [ 0.23087178,  0.23223044],\n",
       "       [ 1.72723682,  1.85941992],\n",
       "       [ 1.27881067,  1.45928734],\n",
       "       [ 1.14652797,  0.83639321],\n",
       "       [ 2.03523476,  2.09252554],\n",
       "       [ 1.66446805,  1.71362559],\n",
       "       [-1.11958403, -0.85134936],\n",
       "       [ 1.91316787,  2.0006785 ],\n",
       "       [ 0.5241104 ,  0.83639321],\n",
       "       [-1.84902932, -1.9239852 ],\n",
       "       [ 0.59569062,  0.83639321],\n",
       "       [-1.11958403, -0.97534158],\n",
       "       [ 0.87571101, -0.73629791],\n",
       "       [ 0.80661256,  0.89741909],\n",
       "       [ 1.27881067, -0.52648424],\n",
       "       [-0.82922364, -1.64369183],\n",
       "       [-0.15290163, -0.73629791],\n",
       "       [ 1.34422101,  1.35309779],\n",
       "       [-0.23232996,  0.23223044],\n",
       "       [-0.31289013, -0.33673649],\n",
       "       [ 1.91316787,  1.71362559],\n",
       "       [ 1.66446805,  1.51138204],\n",
       "       [ 1.27881067,  1.35309779],\n",
       "       [ 0.4518599 ,  0.0809807 ],\n",
       "       [ 0.5241104 , -0.16163513],\n",
       "       [-0.56285331, -1.11082322],\n",
       "       [ 1.72723682,  1.7627542 ],\n",
       "       [ 0.87571101,  1.07467463],\n",
       "       [-1.22379571, -1.11082322],\n",
       "       [ 0.73692212,  0.89741909],\n",
       "       [-1.44798257, -1.9239852 ],\n",
       "       [ 0.07979666,  0.00237613],\n",
       "       [-0.07447466, -0.73629791],\n",
       "       [-0.56285331, -0.52648424],\n",
       "       [ 0.59569062,  0.30514094],\n",
       "       [ 1.01220199,  1.29895155],\n",
       "       [ 0.07979666, -0.85134936],\n",
       "       [-1.33290195, -1.26175156],\n",
       "       [-0.73822331, -0.52648424],\n",
       "       [ 1.72723682,  1.81134673],\n",
       "       [-0.39472362,  0.0809807 ],\n",
       "       [-0.39472362,  0.00237613],\n",
       "       [ 0.23087178,  0.58121775],\n",
       "       [-1.01946985, -0.52648424],\n",
       "       [-0.64952261, -0.33673649],\n",
       "       [ 0.23087178,  0.00237613],\n",
       "       [ 0.66662121,  1.07467463],\n",
       "       [-1.11958403, -1.11082322],\n",
       "       [ 0.15572368,  0.00237613],\n",
       "       [ 1.14652797,  1.40653422],\n",
       "       [-0.92284322, -0.42949882],\n",
       "       [ 0.15572368,  0.58121775],\n",
       "       [-0.07447466, -0.52648424],\n",
       "       [-0.23232996, -0.42949882],\n",
       "       [ 0.87571101,  0.30514094],\n",
       "       [-0.15290163, -0.85134936],\n",
       "       [ 1.07962775,  1.45928734],\n",
       "       [ 1.01220199,  0.58121775],\n",
       "       [-0.64952261, -0.2476084 ],\n",
       "       [ 0.80661256,  0.71113548],\n",
       "       [ 1.14652797,  0.00237613],\n",
       "       [-0.64952261, -0.33673649],\n",
       "       [-0.31289013,  0.15755228],\n",
       "       [ 1.21291753,  1.45928734],\n",
       "       [ 0.73692212,  1.07467463],\n",
       "       [ 0.80661256,  1.29895155],\n",
       "       [-0.47798647, -0.42949882],\n",
       "       [ 1.40916159,  0.83639321],\n",
       "       [ 1.27881067,  1.1884149 ],\n",
       "       [-1.5705698 , -1.26175156],\n",
       "       [ 0.4518599 ,  0.89741909],\n",
       "       [ 2.33428079,  2.0006785 ],\n",
       "       [ 1.21291753,  1.45928734],\n",
       "       [ 0.37891785,  0.83639321],\n",
       "       [ 0.07979666,  0.37639717],\n",
       "       [-1.11958403, -1.64369183],\n",
       "       [ 0.3052625 ,  0.44610159],\n",
       "       [ 1.91316787,  1.56284174],\n",
       "       [ 1.27881067,  1.29895155],\n",
       "       [ 0.5241104 , -0.07841836],\n",
       "       [-0.82922364, -1.11082322],\n",
       "       [-0.56285331, -0.33673649],\n",
       "       [ 0.15572368,  0.00237613],\n",
       "       [ 0.66662121,  1.01651528],\n",
       "       [-0.07447466,  0.15755228],\n",
       "       [ 1.53768282,  1.56284174],\n",
       "       [-0.47798647, -0.42949882],\n",
       "       [-0.92284322, -1.64369183],\n",
       "       [ 1.01220199,  1.01651528],\n",
       "       [ 0.87571101,  1.07467463],\n",
       "       [-0.64952261, -0.62843259],\n",
       "       [ 0.15572368,  0.37639717],\n",
       "       [-0.73822331, -0.73629791],\n",
       "       [ 0.66662121,  0.77431674],\n",
       "       [ 0.4518599 ,  0.30514094],\n",
       "       [ 0.5241104 ,  0.77431674],\n",
       "       [-1.5705698 , -1.64369183],\n",
       "       [-1.33290195, -1.26175156],\n",
       "       [ 1.21291753,  1.45928734],\n",
       "       [-0.82922364, -0.62843259],\n",
       "       [-1.11958403, -1.26175156],\n",
       "       [ 0.4518599 ,  0.58121775],\n",
       "       [-1.11958403, -0.97534158],\n",
       "       [ 1.60128689,  1.7627542 ],\n",
       "       [ 0.4518599 ,  0.44610159],\n",
       "       [-0.47798647, -0.52648424],\n",
       "       [ 0.59569062,  0.83639321],\n",
       "       [ 0.59569062,  0.00237613],\n",
       "       [ 1.21291753,  1.35309779],\n",
       "       [ 0.87571101,  0.23223044],\n",
       "       [ 1.34422101,  0.30514094],\n",
       "       [ 0.66662121,  0.30514094],\n",
       "       [ 0.87571101,  1.01651528],\n",
       "       [ 0.73692212,  0.30514094],\n",
       "       [ 1.47364487,  0.71113548],\n",
       "       [ 0.3052625 ,  0.00237613],\n",
       "       [-1.11958403, -1.11082322]])"
      ]
     },
     "execution_count": 85,
     "metadata": {},
     "output_type": "execute_result"
    }
   ],
   "source": [
    "x"
   ]
  },
  {
   "cell_type": "markdown",
   "id": "11d2181a",
   "metadata": {},
   "source": [
    "# applying standard scaler"
   ]
  },
  {
   "cell_type": "code",
   "execution_count": 98,
   "id": "1180ae20",
   "metadata": {},
   "outputs": [
    {
     "data": {
      "text/plain": [
       "array([[-0.54991376,  0.83522144],\n",
       "       [-0.67692071,  0.73605594],\n",
       "       [-0.7795849 , -0.62629656],\n",
       "       [ 0.74033196,  0.67224146],\n",
       "       [ 0.64003843,  0.7683429 ],\n",
       "       [-0.84276134, -0.5382874 ],\n",
       "       [ 0.75373868,  0.65717426],\n",
       "       [ 0.67662248,  0.7363301 ],\n",
       "       [ 0.00815708,  0.99996673],\n",
       "       [-0.70725824,  0.70695529],\n",
       "       [-0.76145923, -0.6482128 ],\n",
       "       [-0.64892197, -0.76085496],\n",
       "       [-0.77504208, -0.63190962],\n",
       "       [-0.69292245, -0.72101212],\n",
       "       [-0.30537419,  0.95223243],\n",
       "       [-0.50499426, -0.8631227 ],\n",
       "       [-0.3763565 ,  0.92647492],\n",
       "       [ 0.69808595,  0.71601397],\n",
       "       [ 0.89193845,  0.45215684],\n",
       "       [ 0.68687473,  0.72677582],\n",
       "       [ 0.68939886,  0.72438195],\n",
       "       [ 0.70873067,  0.70547915],\n",
       "       [ 0.68057808,  0.73267556],\n",
       "       [ 0.60336674,  0.79746384],\n",
       "       [-0.71867826, -0.69534276],\n",
       "       [ 0.00488575, -0.99998806],\n",
       "       [ 0.86720174,  0.49795698],\n",
       "       [-0.75392544, -0.65695999],\n",
       "       [-0.39579702, -0.91833802],\n",
       "       [-0.76145923, -0.6482128 ],\n",
       "       [-0.06689439, -0.99776006],\n",
       "       [-0.64892197, -0.76085496],\n",
       "       [-0.77684685, -0.62968959],\n",
       "       [-0.73827701, -0.67449763],\n",
       "       [-0.73827701, -0.67449763],\n",
       "       [-0.60132641, -0.79900348],\n",
       "       [ 0.17608074,  0.98437573],\n",
       "       [-0.74045734, -0.67210336],\n",
       "       [ 0.79515208,  0.60641006],\n",
       "       [-0.88851185, -0.45885368],\n",
       "       [ 0.10789311, -0.9941625 ],\n",
       "       [ 0.25879866,  0.96593129],\n",
       "       [ 0.84905971,  0.52829689],\n",
       "       [-0.44798963,  0.89403875],\n",
       "       [ 0.99996971,  0.00778364],\n",
       "       [ 0.83168695,  0.55524482],\n",
       "       [ 0.45456189,  0.89071516],\n",
       "       [ 0.39445431,  0.91891555],\n",
       "       [-0.77504208, -0.63190962],\n",
       "       [ 0.50431315,  0.86352084],\n",
       "       [-0.90981763, -0.4150083 ],\n",
       "       [-0.54921148, -0.83568341],\n",
       "       [-0.59986425, -0.80010179],\n",
       "       [-0.90981763, -0.4150083 ],\n",
       "       [-0.49982655, -0.86612552],\n",
       "       [ 0.32957375,  0.94412983],\n",
       "       [-0.85126057, -0.52474322],\n",
       "       [-0.86858948, -0.49553236],\n",
       "       [-0.66371024, -0.74798979],\n",
       "       [-0.85126057, -0.52474322],\n",
       "       [-0.76473362, -0.64434656],\n",
       "       [ 0.63169471,  0.77521725],\n",
       "       [-0.9265194 , -0.37624698],\n",
       "       [-0.7795849 , -0.62629656],\n",
       "       [-0.85126057, -0.52474322],\n",
       "       [ 0.30673463, -0.95179508],\n",
       "       [ 0.68563172,  0.72794859],\n",
       "       [-0.89315938,  0.44974028],\n",
       "       [ 0.36119225,  0.93249137],\n",
       "       [-0.2130523 , -0.9770408 ],\n",
       "       [ 0.67662248,  0.7363301 ],\n",
       "       [ 0.8900245 ,  0.4559127 ],\n",
       "       [ 0.63111728,  0.77568743],\n",
       "       [ 0.66968054,  0.74264929],\n",
       "       [-0.66371024, -0.74798979],\n",
       "       [-0.24069061, -0.97060189],\n",
       "       [ 0.77885275,  0.62720682],\n",
       "       [-0.71952023, -0.69447148],\n",
       "       [-0.68058954, -0.73266492],\n",
       "       [ 0.86367194,  0.50405434],\n",
       "       [-0.96810126,  0.25055926],\n",
       "       [ 0.20739189,  0.97825794],\n",
       "       [-0.68058954, -0.73266492],\n",
       "       [-0.80299221,  0.59598953],\n",
       "       [-0.98680791, -0.1618955 ],\n",
       "       [ 0.6318263 ,  0.77511001],\n",
       "       [-0.79002362, -0.61307641],\n",
       "       [ 0.39445431,  0.91891555],\n",
       "       [-0.8106739 , -0.58549794],\n",
       "       [-0.68728742, -0.72638557],\n",
       "       [-0.78168488, -0.62367359],\n",
       "       [-0.78168488, -0.62367359],\n",
       "       [ 0.63920255,  0.76903843],\n",
       "       [ 0.00815708,  0.99996673],\n",
       "       [-0.63236915, -0.77466719],\n",
       "       [-0.78416324, -0.6205546 ],\n",
       "       [-0.66153458, -0.74991466],\n",
       "       [ 0.99315193, -0.11682999],\n",
       "       [ 0.87640549,  0.4815739 ],\n",
       "       [ 0.90061845,  0.43461064],\n",
       "       [ 0.66968054,  0.74264929],\n",
       "       [-0.37514581, -0.92696581],\n",
       "       [-0.68863871, -0.72510463],\n",
       "       [-0.47578396, -0.87956218],\n",
       "       [ 0.63461417,  0.77282912],\n",
       "       [-0.79698441, -0.60399988],\n",
       "       [-0.82655183, -0.56286062],\n",
       "       [-0.60538645, -0.79593169],\n",
       "       [ 0.7810678 ,  0.62444623],\n",
       "       [-0.67692071,  0.73605594],\n",
       "       [-0.88370956,  0.4680357 ],\n",
       "       [-0.71952023, -0.69447148],\n",
       "       [ 0.6318263 ,  0.77511001],\n",
       "       [-0.35823031, -0.93363325],\n",
       "       [ 0.0058318 , -0.99998299],\n",
       "       [ 0.57139539,  0.82067491],\n",
       "       [ 0.68687473,  0.72677582],\n",
       "       [-0.69084189, -0.72300586],\n",
       "       [-0.75392544, -0.65695999],\n",
       "       [-0.99043361, -0.13799009],\n",
       "       [ 0.58031751,  0.81439032],\n",
       "       [ 0.40950252,  0.91230899],\n",
       "       [ 0.51037675,  0.85995091],\n",
       "       [ 0.40950252,  0.91230899],\n",
       "       [ 0.74219842,  0.67018021],\n",
       "       [ 0.56053526,  0.82813056],\n",
       "       [-0.69292245, -0.72101212],\n",
       "       [ 0.62158902,  0.78334353],\n",
       "       [-0.73827701, -0.67449763],\n",
       "       [-0.84421602, -0.53600309],\n",
       "       [-0.82655183, -0.56286062],\n",
       "       [-0.71952023, -0.69447148],\n",
       "       [ 0.81824554,  0.57486889],\n",
       "       [-0.30537419,  0.95223243],\n",
       "       [-0.9808314 , -0.19485834],\n",
       "       [-0.96999949, -0.24310697],\n",
       "       [-0.78168488, -0.62367359],\n",
       "       [ 0.01322021,  0.99991261],\n",
       "       [-0.66717101, -0.74490458],\n",
       "       [-0.74382705, -0.66837214],\n",
       "       [-0.41344342, -0.91052981],\n",
       "       [-0.80349253, -0.59531483],\n",
       "       [ 0.47531795,  0.8798141 ],\n",
       "       [ 0.50431315,  0.86352084],\n",
       "       [-0.81643221, -0.57744129],\n",
       "       [ 0.47531795,  0.8798141 ],\n",
       "       [ 0.81260912,  0.58280907],\n",
       "       [-0.7795849 , -0.62629656],\n",
       "       [-0.91534324, -0.4026745 ],\n",
       "       [-0.81643221, -0.57744129],\n",
       "       [ 0.0058318 , -0.99998299],\n",
       "       [-0.86435491, -0.50288227],\n",
       "       [-0.63236915, -0.77466719],\n",
       "       [ 0.00688258,  0.99997631],\n",
       "       [-0.95391333,  0.30008226],\n",
       "       [-0.72342351, -0.69040453],\n",
       "       [-0.84276134, -0.5382874 ],\n",
       "       [-0.98595009,  0.16704015],\n",
       "       [-0.79002362, -0.61307641],\n",
       "       [ 0.77885275,  0.62720682],\n",
       "       [ 0.10774462, -0.9941786 ],\n",
       "       [-0.80349253, -0.59531483],\n",
       "       [-0.72342351, -0.69040453],\n",
       "       [ 0.00488575, -0.99998806],\n",
       "       [-0.97959696,  0.20097213],\n",
       "       [-0.60578191,  0.79563074],\n",
       "       [-0.79600273, -0.60529303],\n",
       "       [ 0.79587204,  0.60546487],\n",
       "       [-0.8293919 , -0.55866723],\n",
       "       [-0.44798963,  0.89403875],\n",
       "       [ 0.87096833,  0.49133915],\n",
       "       [-0.19409895,  0.98098196],\n",
       "       [-0.34496273, -0.93861638],\n",
       "       [ 0.59328402,  0.80499321],\n",
       "       [-0.78168488, -0.62367359],\n",
       "       [-0.77684685, -0.62968959],\n",
       "       [ 0.98527278, -0.17098989],\n",
       "       [-0.80349253, -0.59531483],\n",
       "       [-0.9265194 , -0.37624698],\n",
       "       [-0.23172037, -0.97278244],\n",
       "       [-0.87201896, -0.48947209],\n",
       "       [ 0.59312327,  0.80511166],\n",
       "       [ 0.25879866,  0.96593129],\n",
       "       [ 0.65268507,  0.75762933],\n",
       "       [-0.83412856, -0.55157007],\n",
       "       [-0.47578396, -0.87956218],\n",
       "       [ 0.50431315,  0.86352084],\n",
       "       [ 0.70724758,  0.70696596],\n",
       "       [ 0.14985371, -0.98870818],\n",
       "       [ 0.94835232,  0.31721899],\n",
       "       [-0.54991376,  0.83522144],\n",
       "       [-0.44798963,  0.89403875],\n",
       "       [ 0.64690562,  0.76257008],\n",
       "       [-0.8106739 , -0.58549794],\n",
       "       [-0.81643221, -0.57744129],\n",
       "       [-0.81643221, -0.57744129],\n",
       "       [ 0.62208168,  0.78295235],\n",
       "       [ 0.92064291,  0.39040572],\n",
       "       [-0.81643221, -0.57744129],\n",
       "       [ 0.65208866,  0.75814272],\n",
       "       [ 0.95766563,  0.28788286],\n",
       "       [-0.89315938,  0.44974028],\n",
       "       [-0.1548757 , -0.98793396],\n",
       "       [ 0.00213981, -0.99999771],\n",
       "       [ 0.64841024,  0.76129112],\n",
       "       [-0.70725824,  0.70695529],\n",
       "       [-0.64892197, -0.76085496],\n",
       "       [-0.19409895,  0.98098196],\n",
       "       [-0.7795849 , -0.62629656],\n",
       "       [ 0.64592721,  0.763399  ],\n",
       "       [-0.54450203, -0.83875953],\n",
       "       [ 0.77885275,  0.62720682],\n",
       "       [-0.45041666, -0.89281847],\n",
       "       [-0.76077641, -0.64901406],\n",
       "       [-0.81750393, -0.57592301],\n",
       "       [ 0.75689407,  0.65353758],\n",
       "       [-0.60731527, -0.79446093],\n",
       "       [-0.88778414, -0.46026006],\n",
       "       [ 0.00688258,  0.99997631],\n",
       "       [ 0.34085806, -0.94011477],\n",
       "       [-0.60656037, -0.79503743],\n",
       "       [ 0.92891599,  0.37029054],\n",
       "       [ 0.68248746,  0.7308973 ],\n",
       "       [-0.19409895,  0.98098196],\n",
       "       [-0.71952023, -0.69447148],\n",
       "       [-0.8106739 , -0.58549794],\n",
       "       [-0.76077641, -0.64901406],\n",
       "       [ 0.65906902,  0.75208246],\n",
       "       [ 0.58012005,  0.81453099],\n",
       "       [ 0.50548594,  0.86283484],\n",
       "       [ 0.96978182,  0.24397383],\n",
       "       [ 0.9623027 ,  0.27198074],\n",
       "       [-0.66371024, -0.74798979],\n",
       "       [ 0.95766563,  0.28788286],\n",
       "       [ 0.39445431,  0.91891555],\n",
       "       [-0.82090105, -0.57107046],\n",
       "       [ 0.74151364,  0.67093779],\n",
       "       [-0.17677083, -0.98425204],\n",
       "       [-0.75392544, -0.65695999],\n",
       "       [ 0.5869407 ,  0.80962992],\n",
       "       [ 0.65305947,  0.75730663],\n",
       "       [ 0.25879866,  0.96593129],\n",
       "       [-0.25441485,  0.96709518],\n",
       "       [-0.68069199, -0.73256973],\n",
       "       [ 0.75373868,  0.65717426],\n",
       "       [ 0.01322021,  0.99991261],\n",
       "       [ 0.66968054,  0.74264929],\n",
       "       [ 0.62896853, -0.77743076],\n",
       "       [ 0.64592721,  0.763399  ],\n",
       "       [-0.11768507, -0.99305097],\n",
       "       [ 0.94792123, -0.31850484],\n",
       "       [-0.73827701, -0.67449763],\n",
       "       [ 0.57990642, -0.81468309],\n",
       "       [-0.76145923, -0.6482128 ],\n",
       "       [ 0.15330768,  0.9881785 ],\n",
       "       [ 0.75373868,  0.65717426],\n",
       "       [-0.62847246, -0.77783184],\n",
       "       [ 0.62158902,  0.78334353],\n",
       "       [ 0.76444258,  0.64469182],\n",
       "       [ 0.67662248,  0.7363301 ],\n",
       "       [ 0.68939886,  0.72438195],\n",
       "       [ 0.56552959,  0.824728  ],\n",
       "       [ 0.66174957,  0.74972496],\n",
       "       [ 0.72806702,  0.68550596],\n",
       "       [ 0.66786492,  0.7442825 ],\n",
       "       [-0.79498335, -0.60663125],\n",
       "       [ 0.71243083,  0.70174234],\n",
       "       [-0.66153458, -0.74991466],\n",
       "       [ 0.68603958,  0.72756422],\n",
       "       [ 0.98780942,  0.15566805],\n",
       "       [-0.69084189, -0.72300586],\n",
       "       [-0.70987875, -0.7043239 ],\n",
       "       [-0.66371024, -0.74798979],\n",
       "       [-0.65512674, -0.755519  ],\n",
       "       [ 0.73139318,  0.68195602],\n",
       "       [ 0.66108081,  0.75031471],\n",
       "       [ 0.70502922,  0.70917826],\n",
       "       [ 0.68058494,  0.73266919],\n",
       "       [ 0.65906902,  0.75208246],\n",
       "       [ 0.80787896,  0.58934845],\n",
       "       [ 0.69722542,  0.71685195],\n",
       "       [ 0.6967433 ,  0.71732055],\n",
       "       [-0.79600273, -0.60529303],\n",
       "       [ 0.69112367,  0.72273651],\n",
       "       [ 0.53099278,  0.84737634],\n",
       "       [-0.69292245, -0.72101212],\n",
       "       [ 0.58012005,  0.81453099],\n",
       "       [-0.75400821, -0.65686499],\n",
       "       [ 0.76540318, -0.64355107],\n",
       "       [ 0.66847713,  0.7437327 ],\n",
       "       [ 0.9246997 , -0.38069734],\n",
       "       [-0.45041666, -0.89281847],\n",
       "       [-0.20332492, -0.97911132],\n",
       "       [ 0.7047759 ,  0.70943   ],\n",
       "       [-0.70725824,  0.70695529],\n",
       "       [-0.68069199, -0.73256973],\n",
       "       [ 0.74488448,  0.66719346],\n",
       "       [ 0.74033196,  0.67224146],\n",
       "       [ 0.68687473,  0.72677582],\n",
       "       [ 0.98431752,  0.17640583],\n",
       "       [ 0.95558899, -0.2947027 ],\n",
       "       [-0.45198793, -0.89202405],\n",
       "       [ 0.69987437,  0.71426597],\n",
       "       [ 0.63169471,  0.77521725],\n",
       "       [-0.74045734, -0.67210336],\n",
       "       [ 0.63461417,  0.77282912],\n",
       "       [-0.60132641, -0.79900348],\n",
       "       [ 0.99955695,  0.02976407],\n",
       "       [-0.10063398, -0.99492352],\n",
       "       [-0.73030763, -0.68311841],\n",
       "       [ 0.8900245 ,  0.4559127 ],\n",
       "       [ 0.61466165,  0.78879088],\n",
       "       [ 0.09332061, -0.99563611],\n",
       "       [-0.72622401, -0.68745813],\n",
       "       [-0.81416   , -0.58064059],\n",
       "       [ 0.69010438,  0.72370985],\n",
       "       [-0.97959696,  0.20097213],\n",
       "       [-0.99998188,  0.00601961],\n",
       "       [ 0.36916298,  0.92936467],\n",
       "       [-0.88851185, -0.45885368],\n",
       "       [-0.88778414, -0.46026006],\n",
       "       [ 0.99994704,  0.01029143],\n",
       "       [ 0.52712411,  0.84978831],\n",
       "       [-0.70987875, -0.7043239 ],\n",
       "       [ 0.99988361,  0.01525683],\n",
       "       [ 0.6318263 ,  0.77511001],\n",
       "       [-0.90661987, -0.42194834],\n",
       "       [ 0.25879866,  0.96593129],\n",
       "       [-0.1400622 , -0.99014271],\n",
       "       [-0.47578396, -0.87956218],\n",
       "       [ 0.94431403,  0.32904562],\n",
       "       [-0.17677083, -0.98425204],\n",
       "       [ 0.59475583,  0.8039064 ],\n",
       "       [ 0.86720174,  0.49795698],\n",
       "       [-0.93440577, -0.35621042],\n",
       "       [ 0.75010606,  0.66131754],\n",
       "       [ 0.99999785,  0.00207245],\n",
       "       [-0.88778414, -0.46026006],\n",
       "       [-0.89315938,  0.44974028],\n",
       "       [ 0.63920255,  0.76903843],\n",
       "       [ 0.56552959,  0.824728  ],\n",
       "       [ 0.52753601,  0.84953267],\n",
       "       [-0.74382705, -0.66837214],\n",
       "       [ 0.85993416,  0.51040498],\n",
       "       [ 0.73252271,  0.6807426 ],\n",
       "       [-0.7795849 , -0.62629656],\n",
       "       [ 0.44972019,  0.8931695 ],\n",
       "       [ 0.75927808,  0.65076632],\n",
       "       [ 0.63920255,  0.76903843],\n",
       "       [ 0.41266458,  0.91088306],\n",
       "       [ 0.20739189,  0.97825794],\n",
       "       [-0.56295406, -0.82648819],\n",
       "       [ 0.56472814,  0.825277  ],\n",
       "       [ 0.77444857,  0.63263688],\n",
       "       [ 0.70156052,  0.71260988],\n",
       "       [ 0.98899115, -0.14797467],\n",
       "       [-0.59820075, -0.80134628],\n",
       "       [-0.85814838, -0.51340175],\n",
       "       [ 0.99988361,  0.01525683],\n",
       "       [ 0.54838792,  0.83622407],\n",
       "       [-0.42735804,  0.90408247],\n",
       "       [ 0.70134594,  0.71282107],\n",
       "       [-0.74382705, -0.66837214],\n",
       "       [-0.48956253, -0.87196819],\n",
       "       [ 0.70560179,  0.70860857],\n",
       "       [ 0.63169471,  0.77521725],\n",
       "       [-0.71867826, -0.69534276],\n",
       "       [ 0.38229547,  0.92404014],\n",
       "       [-0.7080295 , -0.70618285],\n",
       "       [ 0.65243797,  0.75784213],\n",
       "       [ 0.82873341,  0.55964358],\n",
       "       [ 0.56053526,  0.82813056],\n",
       "       [-0.69084189, -0.72300586],\n",
       "       [-0.72622401, -0.68745813],\n",
       "       [ 0.63920255,  0.76903843],\n",
       "       [-0.79698441, -0.60399988],\n",
       "       [-0.66371024, -0.74798979],\n",
       "       [ 0.61377273,  0.78948277],\n",
       "       [-0.75400821, -0.65686499],\n",
       "       [ 0.67239297,  0.74019436],\n",
       "       [ 0.71162658,  0.70255791],\n",
       "       [-0.67218329, -0.74038479],\n",
       "       [ 0.58012005,  0.81453099],\n",
       "       [ 0.99999204,  0.00398883],\n",
       "       [ 0.66748259,  0.74462541],\n",
       "       [ 0.9665892 ,  0.2563305 ],\n",
       "       [ 0.97518987,  0.22137011],\n",
       "       [ 0.90926815,  0.41621079],\n",
       "       [ 0.65268507,  0.75762933],\n",
       "       [ 0.92392482,  0.38257407],\n",
       "       [ 0.90061845,  0.43461064],\n",
       "       [ 0.99996971,  0.00778364],\n",
       "       [-0.70987875, -0.7043239 ]])"
      ]
     },
     "execution_count": 98,
     "metadata": {},
     "output_type": "execute_result"
    }
   ],
   "source": [
    "from sklearn.preprocessing import StandardScaler\n",
    "from sklearn.preprocessing import normalize\n",
    "#sc=StandardScaler()\n",
    "x_scaled=normalize(x, norm='l2',axis=1)\n",
    "\n",
    "x_scaled"
   ]
  },
  {
   "cell_type": "markdown",
   "id": "3fcb8c16",
   "metadata": {},
   "source": [
    "# Since the salary is continuous data, we will use linear regression model"
   ]
  },
  {
   "cell_type": "code",
   "execution_count": 99,
   "id": "15937e10",
   "metadata": {},
   "outputs": [],
   "source": [
    "from sklearn.model_selection import train_test_split\n",
    "from sklearn.linear_model import LinearRegression\n",
    "from sklearn.tree import DecisionTreeRegressor\n",
    "from sklearn.ensemble import RandomForestRegressor\n",
    "from sklearn.neighbors import KNeighborsRegressor\n",
    "from sklearn.svm import SVR\n",
    "from sklearn.metrics import accuracy_score\n",
    "from sklearn.metrics import r2_score\n",
    "from sklearn.metrics import mean_squared_error\n",
    "from math import sqrt\n",
    "from sklearn.model_selection import cross_val_score\n",
    "from sklearn.model_selection import RandomizedSearchCV\n",
    "import pickle\n",
    "from sklearn.metrics import adjusted_rand_score\n"
   ]
  },
  {
   "cell_type": "code",
   "execution_count": 101,
   "id": "cd55738d",
   "metadata": {},
   "outputs": [
    {
     "name": "stdout",
     "output_type": "stream",
     "text": [
      "(393, 2)\n"
     ]
    }
   ],
   "source": [
    "print(x_scaled.shape)"
   ]
  },
  {
   "cell_type": "code",
   "execution_count": 102,
   "id": "dd56af8b",
   "metadata": {},
   "outputs": [
    {
     "data": {
      "text/plain": [
       "array([[-0.15290163,  0.23223044],\n",
       "       [-0.07447466,  0.0809807 ],\n",
       "       [-1.5705698 , -1.26175156],\n",
       "       [ 1.66446805,  1.51138204],\n",
       "       [ 1.34422101,  1.61368852],\n",
       "       [-1.33290195, -0.85134936],\n",
       "       [ 0.66662121,  0.58121775],\n",
       "       [ 1.66446805,  1.81134673],\n",
       "       [ 0.0030704 ,  0.37639717],\n",
       "       [-0.23232996,  0.23223044],\n",
       "       [-0.73822331, -0.62843259],\n",
       "       [-1.22379571, -1.43488907],\n",
       "       [-2.01600086, -1.64369183],\n",
       "       [-1.84902932, -1.9239852 ],\n",
       "       [-0.07447466,  0.23223044],\n",
       "       [-0.73822331, -1.26175156],\n",
       "       [-0.15290163,  0.37639717],\n",
       "       [ 1.21291753,  1.24406729],\n",
       "       [ 1.14652797,  0.58121775],\n",
       "       [ 1.27881067,  1.35309779],\n",
       "       [ 0.73692212,  0.77431674],\n",
       "       [ 1.07962775,  1.07467463],\n",
       "       [ 0.94423516,  1.01651528],\n",
       "       [ 0.23087178,  0.30514094],\n",
       "       [-0.64952261, -0.62843259],\n",
       "       [ 0.0030704 , -0.62843259],\n",
       "       [ 1.01220199,  0.58121775],\n",
       "       [-1.44798257, -1.26175156],\n",
       "       [-0.82922364, -1.9239852 ],\n",
       "       [-0.73822331, -0.62843259],\n",
       "       [-0.07447466, -1.11082322],\n",
       "       [-1.22379571, -1.43488907],\n",
       "       [-0.64952261, -0.52648424],\n",
       "       [-1.5705698 , -1.43488907],\n",
       "       [-1.5705698 , -1.43488907],\n",
       "       [-1.44798257, -1.9239852 ],\n",
       "       [ 0.07979666,  0.44610159],\n",
       "       [-1.22379571, -1.11082322],\n",
       "       [ 1.40916159,  1.07467463],\n",
       "       [-1.01946985, -0.52648424],\n",
       "       [ 0.15572368, -1.43488907],\n",
       "       [ 0.15572368,  0.58121775],\n",
       "       [ 1.34422101,  0.83639321],\n",
       "       [-0.15290163,  0.30514094],\n",
       "       [ 0.3052625 ,  0.00237613],\n",
       "       [ 1.34422101,  0.89741909],\n",
       "       [ 0.15572368,  0.30514094],\n",
       "       [ 0.3052625 ,  0.71113548],\n",
       "       [-2.01600086, -1.64369183],\n",
       "       [ 0.5241104 ,  0.89741909],\n",
       "       [-0.73822331, -0.33673649],\n",
       "       [-0.82922364, -1.26175156],\n",
       "       [-0.39472362, -0.52648424],\n",
       "       [-0.73822331, -0.33673649],\n",
       "       [-0.56285331, -0.97534158],\n",
       "       [ 0.15572368,  0.44610159],\n",
       "       [-1.01946985, -0.62843259],\n",
       "       [-0.92284322, -0.52648424],\n",
       "       [-1.11958403, -1.26175156],\n",
       "       [-1.01946985, -0.62843259],\n",
       "       [-1.70297782, -1.43488907],\n",
       "       [ 0.87571101,  1.07467463],\n",
       "       [-0.82922364, -0.33673649],\n",
       "       [-1.5705698 , -1.26175156],\n",
       "       [-1.01946985, -0.62843259],\n",
       "       [ 0.07979666, -0.2476084 ],\n",
       "       [ 1.01220199,  1.07467463],\n",
       "       [-0.31289013,  0.15755228],\n",
       "       [ 0.5241104 ,  1.35309779],\n",
       "       [-0.31289013, -1.43488907],\n",
       "       [ 1.66446805,  1.81134673],\n",
       "       [ 0.59569062,  0.30514094],\n",
       "       [ 1.01220199,  1.24406729],\n",
       "       [ 0.5241104 ,  0.58121775],\n",
       "       [-1.11958403, -1.26175156],\n",
       "       [-0.31289013, -1.26175156],\n",
       "       [ 0.37891785,  0.30514094],\n",
       "       [-1.70297782, -1.64369183],\n",
       "       [-1.33290195, -1.43488907],\n",
       "       [ 1.53768282,  0.89741909],\n",
       "       [-0.31289013,  0.0809807 ],\n",
       "       [ 0.07979666,  0.37639717],\n",
       "       [-1.33290195, -1.43488907],\n",
       "       [-0.31289013,  0.23223044],\n",
       "       [-0.47798647, -0.07841836],\n",
       "       [ 1.14652797,  1.40653422],\n",
       "       [-1.84902932, -1.43488907],\n",
       "       [ 0.3052625 ,  0.71113548],\n",
       "       [-1.01946985, -0.73629791],\n",
       "       [-0.92284322, -0.97534158],\n",
       "       [-0.92284322, -0.73629791],\n",
       "       [-0.92284322, -0.73629791],\n",
       "       [ 1.21291753,  1.45928734],\n",
       "       [ 0.0030704 ,  0.37639717],\n",
       "       [-1.5705698 , -1.9239852 ],\n",
       "       [-0.31289013, -0.2476084 ],\n",
       "       [-0.64952261, -0.73629791],\n",
       "       [ 0.66662121, -0.07841836],\n",
       "       [ 1.40916159,  0.77431674],\n",
       "       [ 1.47364487,  0.71113548],\n",
       "       [ 0.5241104 ,  0.58121775],\n",
       "       [-0.39472362, -0.97534158],\n",
       "       [-0.07447466, -0.07841836],\n",
       "       [-0.23232996, -0.42949882],\n",
       "       [ 0.73692212,  0.89741909],\n",
       "       [-0.82922364, -0.62843259],\n",
       "       [-0.92284322, -0.62843259],\n",
       "       [-0.47798647, -0.62843259],\n",
       "       [ 1.34422101,  1.07467463],\n",
       "       [-0.07447466,  0.0809807 ],\n",
       "       [-0.15290163,  0.0809807 ],\n",
       "       [-1.70297782, -1.64369183],\n",
       "       [ 1.14652797,  1.40653422],\n",
       "       [-0.73822331, -1.9239852 ],\n",
       "       [ 0.0030704 , -0.52648424],\n",
       "       [ 0.66662121,  0.95744438],\n",
       "       [ 1.27881067,  1.35309779],\n",
       "       [-1.5705698 , -1.64369183],\n",
       "       [-1.44798257, -1.26175156],\n",
       "       [-0.56285331, -0.07841836],\n",
       "       [ 0.80661256,  1.13196217],\n",
       "       [ 0.23087178,  0.51434702],\n",
       "       [ 0.3052625 ,  0.51434702],\n",
       "       [ 0.23087178,  0.51434702],\n",
       "       [ 2.21567335,  2.0006785 ],\n",
       "       [ 0.5241104 ,  0.77431674],\n",
       "       [-1.84902932, -1.9239852 ],\n",
       "       [ 0.80661256,  1.01651528],\n",
       "       [-1.5705698 , -1.43488907],\n",
       "       [-0.82922364, -0.52648424],\n",
       "       [-0.92284322, -0.62843259],\n",
       "       [-1.70297782, -1.64369183],\n",
       "       [ 1.01220199,  0.71113548],\n",
       "       [-0.07447466,  0.23223044],\n",
       "       [-0.39472362, -0.07841836],\n",
       "       [-0.31289013, -0.07841836],\n",
       "       [-0.92284322, -0.73629791],\n",
       "       [ 0.0030704 ,  0.23223044],\n",
       "       [-0.56285331, -0.62843259],\n",
       "       [-0.47798647, -0.42949882],\n",
       "       [-0.15290163, -0.33673649],\n",
       "       [-1.70297782, -1.26175156],\n",
       "       [ 0.4518599 ,  0.83639321],\n",
       "       [ 0.5241104 ,  0.89741909],\n",
       "       [-1.5705698 , -1.11082322],\n",
       "       [ 0.4518599 ,  0.83639321],\n",
       "       [ 1.07962775,  0.77431674],\n",
       "       [-1.5705698 , -1.26175156],\n",
       "       [-0.56285331, -0.2476084 ],\n",
       "       [-1.5705698 , -1.11082322],\n",
       "       [ 0.0030704 , -0.52648424],\n",
       "       [-0.73822331, -0.42949882],\n",
       "       [-1.5705698 , -1.9239852 ],\n",
       "       [ 0.0030704 ,  0.44610159],\n",
       "       [-0.73822331,  0.23223044],\n",
       "       [-2.01600086, -1.9239852 ],\n",
       "       [-1.33290195, -0.85134936],\n",
       "       [-0.47798647,  0.0809807 ],\n",
       "       [-1.84902932, -1.43488907],\n",
       "       [ 0.37891785,  0.30514094],\n",
       "       [ 0.07979666, -0.73629791],\n",
       "       [-1.70297782, -1.26175156],\n",
       "       [-2.01600086, -1.9239852 ],\n",
       "       [ 0.0030704 , -0.62843259],\n",
       "       [-0.39472362,  0.0809807 ],\n",
       "       [-0.23232996,  0.30514094],\n",
       "       [-1.11958403, -0.85134936],\n",
       "       [ 0.3052625 ,  0.23223044],\n",
       "       [-1.44798257, -0.97534158],\n",
       "       [-0.15290163,  0.30514094],\n",
       "       [ 1.14652797,  0.64679054],\n",
       "       [-0.07447466,  0.37639717],\n",
       "       [-0.31289013, -0.85134936],\n",
       "       [ 0.5241104 ,  0.71113548],\n",
       "       [-0.92284322, -0.73629791],\n",
       "       [-0.64952261, -0.52648424],\n",
       "       [ 0.4518599 , -0.07841836],\n",
       "       [-1.70297782, -1.26175156],\n",
       "       [-0.82922364, -0.33673649],\n",
       "       [-0.23232996, -0.97534158],\n",
       "       [-1.11958403, -0.62843259],\n",
       "       [ 0.37891785,  0.51434702],\n",
       "       [ 0.15572368,  0.58121775],\n",
       "       [ 0.87571101,  1.01651528],\n",
       "       [-0.64952261, -0.42949882],\n",
       "       [-0.23232996, -0.42949882],\n",
       "       [ 0.5241104 ,  0.89741909],\n",
       "       [ 0.3052625 ,  0.30514094],\n",
       "       [ 0.07979666, -0.52648424],\n",
       "       [ 1.53768282,  0.51434702],\n",
       "       [-0.15290163,  0.23223044],\n",
       "       [-0.15290163,  0.30514094],\n",
       "       [ 1.85157723,  2.18263277],\n",
       "       [-1.01946985, -0.73629791],\n",
       "       [-1.5705698 , -1.11082322],\n",
       "       [-1.5705698 , -1.11082322],\n",
       "       [ 0.94423516,  1.1884149 ],\n",
       "       [ 1.21291753,  0.51434702],\n",
       "       [-1.5705698 , -1.11082322],\n",
       "       [ 1.34422101,  1.56284174],\n",
       "       [ 0.5241104 ,  0.15755228],\n",
       "       [-0.31289013,  0.15755228],\n",
       "       [-0.15290163, -0.97534158],\n",
       "       [ 0.0030704 , -1.43488907],\n",
       "       [ 1.01220199,  1.1884149 ],\n",
       "       [-0.23232996,  0.23223044],\n",
       "       [-1.22379571, -1.43488907],\n",
       "       [-0.07447466,  0.37639717],\n",
       "       [-1.5705698 , -1.26175156],\n",
       "       [ 1.27881067,  1.51138204],\n",
       "       [-0.47798647, -0.73629791],\n",
       "       [ 0.37891785,  0.30514094],\n",
       "       [-0.82922364, -1.64369183],\n",
       "       [-0.39472362, -0.33673649],\n",
       "       [-0.47798647, -0.33673649],\n",
       "       [ 0.59569062,  0.51434702],\n",
       "       [-0.56285331, -0.73629791],\n",
       "       [-0.64952261, -0.33673649],\n",
       "       [ 0.0030704 ,  0.44610159],\n",
       "       [ 0.15572368, -0.42949882],\n",
       "       [-0.64952261, -0.85134936],\n",
       "       [ 0.94423516,  0.37639717],\n",
       "       [ 1.21291753,  1.29895155],\n",
       "       [-0.07447466,  0.37639717],\n",
       "       [-1.70297782, -1.64369183],\n",
       "       [-1.01946985, -0.73629791],\n",
       "       [-0.39472362, -0.33673649],\n",
       "       [ 1.27881067,  1.45928734],\n",
       "       [ 0.59569062,  0.83639321],\n",
       "       [ 0.37891785,  0.64679054],\n",
       "       [ 1.21291753,  0.30514094],\n",
       "       [ 1.07962775,  0.30514094],\n",
       "       [-1.11958403, -1.26175156],\n",
       "       [ 0.5241104 ,  0.15755228],\n",
       "       [ 0.3052625 ,  0.71113548],\n",
       "       [-1.22379571, -0.85134936],\n",
       "       [ 1.72723682,  1.56284174],\n",
       "       [-0.15290163, -0.85134936],\n",
       "       [-1.44798257, -1.26175156],\n",
       "       [ 0.73692212,  1.01651528],\n",
       "       [ 1.21291753,  1.40653422],\n",
       "       [ 0.15572368,  0.58121775],\n",
       "       [-0.15290163,  0.58121775],\n",
       "       [-0.31289013, -0.33673649],\n",
       "       [ 0.66662121,  0.58121775],\n",
       "       [ 0.0030704 ,  0.23223044],\n",
       "       [ 0.5241104 ,  0.58121775],\n",
       "       [ 0.59569062, -0.73629791],\n",
       "       [ 1.27881067,  1.51138204],\n",
       "       [-0.07447466, -0.62843259],\n",
       "       [ 0.73692212, -0.2476084 ],\n",
       "       [-1.5705698 , -1.43488907],\n",
       "       [ 0.5241104 , -0.73629791],\n",
       "       [-0.73822331, -0.62843259],\n",
       "       [ 0.07979666,  0.51434702],\n",
       "       [ 0.66662121,  0.58121775],\n",
       "       [-1.01946985, -1.26175156],\n",
       "       [ 0.80661256,  1.01651528],\n",
       "       [ 1.40916159,  1.1884149 ],\n",
       "       [ 1.66446805,  1.81134673],\n",
       "       [ 0.73692212,  0.77431674],\n",
       "       [ 0.73692212,  1.07467463],\n",
       "       [ 1.14652797,  1.29895155],\n",
       "       [ 1.07962775,  1.01651528],\n",
       "       [ 1.53768282,  1.71362559],\n",
       "       [-0.56285331, -0.42949882],\n",
       "       [ 1.78960332,  1.7627542 ],\n",
       "       [-0.64952261, -0.73629791],\n",
       "       [ 1.47364487,  1.56284174],\n",
       "       [ 1.47364487,  0.23223044],\n",
       "       [-1.5705698 , -1.64369183],\n",
       "       [-1.11958403, -1.11082322],\n",
       "       [-1.11958403, -1.26175156],\n",
       "       [-0.73822331, -0.85134936],\n",
       "       [ 2.09572789,  1.95407107],\n",
       "       [ 0.73692212,  0.83639321],\n",
       "       [ 0.23087178,  0.23223044],\n",
       "       [ 1.72723682,  1.85941992],\n",
       "       [ 1.27881067,  1.45928734],\n",
       "       [ 1.14652797,  0.83639321],\n",
       "       [ 2.03523476,  2.09252554],\n",
       "       [ 1.66446805,  1.71362559],\n",
       "       [-1.11958403, -0.85134936],\n",
       "       [ 1.91316787,  2.0006785 ],\n",
       "       [ 0.5241104 ,  0.83639321],\n",
       "       [-1.84902932, -1.9239852 ],\n",
       "       [ 0.59569062,  0.83639321],\n",
       "       [-1.11958403, -0.97534158],\n",
       "       [ 0.87571101, -0.73629791],\n",
       "       [ 0.80661256,  0.89741909],\n",
       "       [ 1.27881067, -0.52648424],\n",
       "       [-0.82922364, -1.64369183],\n",
       "       [-0.15290163, -0.73629791],\n",
       "       [ 1.34422101,  1.35309779],\n",
       "       [-0.23232996,  0.23223044],\n",
       "       [-0.31289013, -0.33673649],\n",
       "       [ 1.91316787,  1.71362559],\n",
       "       [ 1.66446805,  1.51138204],\n",
       "       [ 1.27881067,  1.35309779],\n",
       "       [ 0.4518599 ,  0.0809807 ],\n",
       "       [ 0.5241104 , -0.16163513],\n",
       "       [-0.56285331, -1.11082322],\n",
       "       [ 1.72723682,  1.7627542 ],\n",
       "       [ 0.87571101,  1.07467463],\n",
       "       [-1.22379571, -1.11082322],\n",
       "       [ 0.73692212,  0.89741909],\n",
       "       [-1.44798257, -1.9239852 ],\n",
       "       [ 0.07979666,  0.00237613],\n",
       "       [-0.07447466, -0.73629791],\n",
       "       [-0.56285331, -0.52648424],\n",
       "       [ 0.59569062,  0.30514094],\n",
       "       [ 1.01220199,  1.29895155],\n",
       "       [ 0.07979666, -0.85134936],\n",
       "       [-1.33290195, -1.26175156],\n",
       "       [-0.73822331, -0.52648424],\n",
       "       [ 1.72723682,  1.81134673],\n",
       "       [-0.39472362,  0.0809807 ],\n",
       "       [-0.39472362,  0.00237613],\n",
       "       [ 0.23087178,  0.58121775],\n",
       "       [-1.01946985, -0.52648424],\n",
       "       [-0.64952261, -0.33673649],\n",
       "       [ 0.23087178,  0.00237613],\n",
       "       [ 0.66662121,  1.07467463],\n",
       "       [-1.11958403, -1.11082322],\n",
       "       [ 0.15572368,  0.00237613],\n",
       "       [ 1.14652797,  1.40653422],\n",
       "       [-0.92284322, -0.42949882],\n",
       "       [ 0.15572368,  0.58121775],\n",
       "       [-0.07447466, -0.52648424],\n",
       "       [-0.23232996, -0.42949882],\n",
       "       [ 0.87571101,  0.30514094],\n",
       "       [-0.15290163, -0.85134936],\n",
       "       [ 1.07962775,  1.45928734],\n",
       "       [ 1.01220199,  0.58121775],\n",
       "       [-0.64952261, -0.2476084 ],\n",
       "       [ 0.80661256,  0.71113548],\n",
       "       [ 1.14652797,  0.00237613],\n",
       "       [-0.64952261, -0.33673649],\n",
       "       [-0.31289013,  0.15755228],\n",
       "       [ 1.21291753,  1.45928734],\n",
       "       [ 0.73692212,  1.07467463],\n",
       "       [ 0.80661256,  1.29895155],\n",
       "       [-0.47798647, -0.42949882],\n",
       "       [ 1.40916159,  0.83639321],\n",
       "       [ 1.27881067,  1.1884149 ],\n",
       "       [-1.5705698 , -1.26175156],\n",
       "       [ 0.4518599 ,  0.89741909],\n",
       "       [ 2.33428079,  2.0006785 ],\n",
       "       [ 1.21291753,  1.45928734],\n",
       "       [ 0.37891785,  0.83639321],\n",
       "       [ 0.07979666,  0.37639717],\n",
       "       [-1.11958403, -1.64369183],\n",
       "       [ 0.3052625 ,  0.44610159],\n",
       "       [ 1.91316787,  1.56284174],\n",
       "       [ 1.27881067,  1.29895155],\n",
       "       [ 0.5241104 , -0.07841836],\n",
       "       [-0.82922364, -1.11082322],\n",
       "       [-0.56285331, -0.33673649],\n",
       "       [ 0.15572368,  0.00237613],\n",
       "       [ 0.66662121,  1.01651528],\n",
       "       [-0.07447466,  0.15755228],\n",
       "       [ 1.53768282,  1.56284174],\n",
       "       [-0.47798647, -0.42949882],\n",
       "       [-0.92284322, -1.64369183],\n",
       "       [ 1.01220199,  1.01651528],\n",
       "       [ 0.87571101,  1.07467463],\n",
       "       [-0.64952261, -0.62843259],\n",
       "       [ 0.15572368,  0.37639717],\n",
       "       [-0.73822331, -0.73629791],\n",
       "       [ 0.66662121,  0.77431674],\n",
       "       [ 0.4518599 ,  0.30514094],\n",
       "       [ 0.5241104 ,  0.77431674],\n",
       "       [-1.5705698 , -1.64369183],\n",
       "       [-1.33290195, -1.26175156],\n",
       "       [ 1.21291753,  1.45928734],\n",
       "       [-0.82922364, -0.62843259],\n",
       "       [-1.11958403, -1.26175156],\n",
       "       [ 0.4518599 ,  0.58121775],\n",
       "       [-1.11958403, -0.97534158],\n",
       "       [ 1.60128689,  1.7627542 ],\n",
       "       [ 0.4518599 ,  0.44610159],\n",
       "       [-0.47798647, -0.52648424],\n",
       "       [ 0.59569062,  0.83639321],\n",
       "       [ 0.59569062,  0.00237613],\n",
       "       [ 1.21291753,  1.35309779],\n",
       "       [ 0.87571101,  0.23223044],\n",
       "       [ 1.34422101,  0.30514094],\n",
       "       [ 0.66662121,  0.30514094],\n",
       "       [ 0.87571101,  1.01651528],\n",
       "       [ 0.73692212,  0.30514094],\n",
       "       [ 1.47364487,  0.71113548],\n",
       "       [ 0.3052625 ,  0.00237613],\n",
       "       [-1.11958403, -1.11082322]])"
      ]
     },
     "execution_count": 102,
     "metadata": {},
     "output_type": "execute_result"
    }
   ],
   "source": [
    "x"
   ]
  },
  {
   "cell_type": "code",
   "execution_count": 103,
   "id": "ac039538",
   "metadata": {},
   "outputs": [
    {
     "name": "stdout",
     "output_type": "stream",
     "text": [
      "(393,)\n"
     ]
    }
   ],
   "source": [
    "print(y.shape)"
   ]
  },
  {
   "cell_type": "code",
   "execution_count": 104,
   "id": "ad4e8a48",
   "metadata": {},
   "outputs": [],
   "source": [
    "x_train,x_test,y_train,y_test=train_test_split(x_scaled,y,random_state=45,test_size=0.25)"
   ]
  },
  {
   "cell_type": "code",
   "execution_count": 105,
   "id": "36057115",
   "metadata": {},
   "outputs": [
    {
     "data": {
      "text/plain": [
       "(294, 2)"
      ]
     },
     "execution_count": 105,
     "metadata": {},
     "output_type": "execute_result"
    }
   ],
   "source": [
    "x_train.shape"
   ]
  },
  {
   "cell_type": "code",
   "execution_count": 106,
   "id": "f11c0cd6",
   "metadata": {},
   "outputs": [
    {
     "data": {
      "text/plain": [
       "(99, 2)"
      ]
     },
     "execution_count": 106,
     "metadata": {},
     "output_type": "execute_result"
    }
   ],
   "source": [
    "x_test.shape"
   ]
  },
  {
   "cell_type": "code",
   "execution_count": 107,
   "id": "89ed065a",
   "metadata": {},
   "outputs": [
    {
     "data": {
      "text/plain": [
       "(294,)"
      ]
     },
     "execution_count": 107,
     "metadata": {},
     "output_type": "execute_result"
    }
   ],
   "source": [
    "y_train.shape"
   ]
  },
  {
   "cell_type": "code",
   "execution_count": 108,
   "id": "2fd13877",
   "metadata": {},
   "outputs": [
    {
     "data": {
      "text/plain": [
       "(99,)"
      ]
     },
     "execution_count": 108,
     "metadata": {},
     "output_type": "execute_result"
    }
   ],
   "source": [
    "y_test.shape"
   ]
  },
  {
   "cell_type": "markdown",
   "id": "0993cef2",
   "metadata": {},
   "source": [
    "# Linear Regression"
   ]
  },
  {
   "cell_type": "code",
   "execution_count": 110,
   "id": "47459996",
   "metadata": {},
   "outputs": [
    {
     "name": "stdout",
     "output_type": "stream",
     "text": [
      "coefficients: \n",
      " [14067.10249509  6521.57505512]\n",
      "Mean squared error: 683203885.80\n",
      "Coefficient of determination/R-Square: 0.14\n"
     ]
    },
    {
     "data": {
      "image/png": "[encoded data removed]",
      "text/plain": [
       "<Figure size 432x288 with 1 Axes>"
      ]
     },
     "metadata": {
      "needs_background": "light"
     },
     "output_type": "display_data"
    }
   ],
   "source": [
    "# Linear Regression:\n",
    "lr=LinearRegression()\n",
    "\n",
    "# training\n",
    "lr.fit(x_train, y_train)\n",
    "\n",
    "# prediction\n",
    "y_pred_lr = lr.predict(x_test)\n",
    "\n",
    "# The coefficients\n",
    "print(\"coefficients: \\n\", lr.coef_)\n",
    "\n",
    "# The mean squared error\n",
    "print(\"Mean squared error: %.2f\" %mean_squared_error(y_test, y_pred_lr))\n",
    "\n",
    "# The coefficient of determination: 1 is perfect prediction\n",
    "print(\"Coefficient of determination/R-Square: %.2f\" % r2_score(y_test, y_pred_lr))\n",
    "\n",
    "# plot output\n",
    "# plt.scatter(x_test[:,1], y_test, color=\"black\")\n",
    "plt.scatter(y_test, y_pred_lr, color=\"blue\", linewidth=3, marker=\".\")\n",
    "\n",
    "plt.xlabel(\"y_test\")\n",
    "plt.ylabel(\"y_pred\")\n",
    "\n",
    "plt.show()"
   ]
  },
  {
   "cell_type": "code",
   "execution_count": 111,
   "id": "9e69b8f0",
   "metadata": {},
   "outputs": [
    {
     "name": "stdout",
     "output_type": "stream",
     "text": [
      "CV Score:  [ 0.19065013 -0.00471088  0.23408229  0.1075856   0.31990199]\n",
      "CV score average:  0.16950182628179056\n"
     ]
    }
   ],
   "source": [
    "# Cross Valiodation\n",
    "from sklearn.model_selection import cross_val_score\n",
    "k = 5\n",
    "cv_result = cross_val_score(lr,x_train,y_train,cv=k) # uses R^2 as score\n",
    "print('CV Score: ',cv_result)\n",
    "print('CV score average: ',np.sum(cv_result)/k)"
   ]
  },
  {
   "cell_type": "markdown",
   "id": "45ef2b1b",
   "metadata": {},
   "source": [
    "# Decision Tree Regression"
   ]
  },
  {
   "cell_type": "code",
   "execution_count": 113,
   "id": "da8f4bad",
   "metadata": {},
   "outputs": [
    {
     "name": "stdout",
     "output_type": "stream",
     "text": [
      "Mean squared error: 955303444.22\n",
      "Coefficient of determination/R-Square: -0.20\n"
     ]
    },
    {
     "data": {
      "image/png": "[encoded data removed]",
      "text/plain": [
       "<Figure size 432x288 with 1 Axes>"
      ]
     },
     "metadata": {
      "needs_background": "light"
     },
     "output_type": "display_data"
    }
   ],
   "source": [
    "# Decision tree regression\n",
    "dt=DecisionTreeRegressor()\n",
    "\n",
    "# training\n",
    "dt.fit(x_train, y_train)\n",
    "\n",
    "# prediction\n",
    "y_pred_dt = dt.predict(x_test)\n",
    "\n",
    "# The mean squared error\n",
    "print(\"Mean squared error: %.2f\" %mean_squared_error(y_test, y_pred_dt))\n",
    "\n",
    "# The coefficient of determination: 1 is perfect prediction\n",
    "print(\"Coefficient of determination/R-Square: %.2f\" % r2_score(y_test, y_pred_dt))\n",
    "\n",
    "# plot outputs\n",
    "# plt.scatter(x_test[:,1], y_test, color=\"black\")\n",
    "plt.scatter(y_test, y_pred_dt, color=\"blue\", linewidth=3, marker=\".\")\n",
    "\n",
    "plt.xlabel(\"y_test\")\n",
    "plt.ylabel(\"y_pred\")\n",
    "\n",
    "plt.show()"
   ]
  },
  {
   "cell_type": "code",
   "execution_count": 118,
   "id": "4d517bdf",
   "metadata": {},
   "outputs": [
    {
     "name": "stdout",
     "output_type": "stream",
     "text": [
      "Tuned hyperparameter k: {'criterion': 'mse', 'min_samples_leaf': 9}\n",
      "Best score: 0.14116511398640044\n"
     ]
    }
   ],
   "source": [
    "# grid search cross validation with 1 hyperparameter\n",
    "from sklearn.model_selection import GridSearchCV\n",
    "grid = {'min_samples_leaf': np.arange(1,10),\"criterion\":[\"mse\",\"friedman_mse\",\"mae\"]}\n",
    "\n",
    "dt_cv = GridSearchCV(dt, grid, cv=5) # GridSearchCV\n",
    "dt_cv.fit(x_train,y_train) # Fit\n",
    "\n",
    "# print hyperparameter\n",
    "print(\"Tuned hyperparameter k: {}\".format(dt_cv.best_params_))\n",
    "print(\"Best score: {}\".format(dt_cv.best_score_))"
   ]
  },
  {
   "cell_type": "markdown",
   "id": "f84f32f4",
   "metadata": {},
   "source": [
    "# Random Forest Regression"
   ]
  },
  {
   "cell_type": "code",
   "execution_count": 119,
   "id": "15b6d54b",
   "metadata": {},
   "outputs": [
    {
     "name": "stdout",
     "output_type": "stream",
     "text": [
      "Mean squared error: 701036701.11\n",
      "Coefficient of determination/R-Square: 0.12\n"
     ]
    },
    {
     "data": {
      "image/png": "[encoded data removed]",
      "text/plain": [
       "<Figure size 432x288 with 1 Axes>"
      ]
     },
     "metadata": {
      "needs_background": "light"
     },
     "output_type": "display_data"
    }
   ],
   "source": [
    "# Random forest regression\n",
    "rf=RandomForestRegressor()\n",
    "\n",
    "# training\n",
    "rf.fit(x_train, y_train)\n",
    "\n",
    "# prediction\n",
    "y_pred_rf = rf.predict(x_test)\n",
    "\n",
    "# The mean squared error\n",
    "print(\"Mean squared error: %.2f\" % mean_squared_error(y_test, y_pred_rf))\n",
    "\n",
    "# The coefficient of determination: 1 is perfect prediction\n",
    "print(\"Coefficient of determination/R-Square: %.2f\" % r2_score(y_test, y_pred_rf))\n",
    "\n",
    "# plot outputs\n",
    "# plt.scatter(x_test[:,1], y_test, color=\"black\")\n",
    "plt.scatter(y_test, y_pred_rf, color=\"blue\", linewidth=3, marker=\".\")\n",
    "\n",
    "plt.xlabel(\"y_test\")\n",
    "plt.ylabel(\"y_pred\")\n",
    "\n",
    "plt.show()"
   ]
  },
  {
   "cell_type": "code",
   "execution_count": 120,
   "id": "b173e4bf",
   "metadata": {},
   "outputs": [
    {
     "name": "stdout",
     "output_type": "stream",
     "text": [
      "Tuned hyperparameter k: {'criterion': 'mse', 'min_samples_leaf': 9}\n",
      "Best score: 0.2587296807660341\n"
     ]
    }
   ],
   "source": [
    "# grid search cross validation with 1 hyperparameter\n",
    "grid = {'min_samples_leaf': np.arange(1,10),\"criterion\":[\"mse\",\"friedman_mse\",\"mae\"]}\n",
    "\n",
    "rf_cv = GridSearchCV(rf, grid, cv=5) # GridSearchCV\n",
    "rf_cv.fit(x_train,y_train) # Fit\n",
    "\n",
    "# Print hyperparameter\n",
    "print(\"Tuned hyperparameter k: {}\".format(rf_cv.best_params_))\n",
    "print(\"Best score: {}\".format(rf_cv.best_score_))"
   ]
  },
  {
   "cell_type": "markdown",
   "id": "05275031",
   "metadata": {},
   "source": [
    "# Support Vector Regression"
   ]
  },
  {
   "cell_type": "code",
   "execution_count": 121,
   "id": "0205e2ff",
   "metadata": {},
   "outputs": [
    {
     "name": "stdout",
     "output_type": "stream",
     "text": [
      "Mean squared error: 839408933.57\n",
      "Coefficient of determination/R-Square: -0.05\n"
     ]
    },
    {
     "data": {
      "image/png": "[encoded data removed]",
      "text/plain": [
       "<Figure size 432x288 with 1 Axes>"
      ]
     },
     "metadata": {
      "needs_background": "light"
     },
     "output_type": "display_data"
    }
   ],
   "source": [
    "# SV regression\n",
    "svr = SVR()\n",
    "\n",
    "# training\n",
    "svr.fit(x_train,y_train)\n",
    "\n",
    "# prediction\n",
    "y_pred_svr = svr.predict(x_test)\n",
    "\n",
    "# The mean squared error\n",
    "print(\"Mean squared error: %.2f\" %mean_squared_error(y_test, y_pred_svr))\n",
    "\n",
    "# The coefficient of determination: 1 is perfect prediction\n",
    "print(\"Coefficient of determination/R-Square: %.2f\" % r2_score(y_test, y_pred_svr))\n",
    "\n",
    "# plot outputs\n",
    "# plt.scatter(x_test[:,1], y_test, color=\"black\")\n",
    "plt.scatter(y_test, y_pred_svr, color=\"blue\", linewidth=3, marker=\".\")\n",
    "\n",
    "plt.xlabel(\"y_test\")\n",
    "plt.ylabel(\"y_pred\")\n",
    "plt.show()"
   ]
  },
  {
   "cell_type": "markdown",
   "id": "be8af01e",
   "metadata": {},
   "source": [
    "# KNN Regression"
   ]
  },
  {
   "cell_type": "code",
   "execution_count": 123,
   "id": "948962cf",
   "metadata": {},
   "outputs": [
    {
     "name": "stdout",
     "output_type": "stream",
     "text": [
      "Mean squared error: 599735839.88\n",
      "Coefficient of determination/R-Square: 0.25\n"
     ]
    },
    {
     "data": {
      "image/png": "[encoded data removed]",
      "text/plain": [
       "<Figure size 432x288 with 1 Axes>"
      ]
     },
     "metadata": {
      "needs_background": "light"
     },
     "output_type": "display_data"
    }
   ],
   "source": [
    "# KNN regression\n",
    "knn = KNeighborsRegressor()\n",
    "\n",
    "# training\n",
    "knn.fit(x_train,y_train)\n",
    "\n",
    "# prediction\n",
    "y_pred_knn = knn.predict(x_test)\n",
    "\n",
    "# The mean squared error\n",
    "print(\"Mean squared error: %.2f\" % mean_squared_error(y_test, y_pred_knn))\n",
    "\n",
    "# The coefficient of determination: 1 is perfect prediction\n",
    "print(\"Coefficient of determination/R-Square: %.2f\" % r2_score(y_test, y_pred_knn))\n",
    "\n",
    "# plot outputs\n",
    "# plt.scatter(x_test[:,1], y_test, color=\"black\")\n",
    "plt.scatter(y_test, y_pred_knn, color=\"blue\", linewidth=3, marker=\".\")\n",
    "\n",
    "plt.xlabel(\"y_test\")\n",
    "plt.ylabel(\"y_pred\")\n",
    "\n",
    "plt.show()"
   ]
  },
  {
   "cell_type": "code",
   "execution_count": 124,
   "id": "dde81a4a",
   "metadata": {},
   "outputs": [
    {
     "name": "stdout",
     "output_type": "stream",
     "text": [
      "CV Scores:  [ 0.25743095 -0.02618552  0.19645601  0.03820692  0.21281874]\n",
      "CV scores average:  0.13574542020266078\n"
     ]
    }
   ],
   "source": [
    "# Cross Valiodation\n",
    "k = 5\n",
    "knn_cv = cross_val_score(knn,x_train,y_train,cv=k) # uses R^2 as score\n",
    "print('CV Scores: ', knn_cv)\n",
    "print('CV scores average: ',np.sum(knn_cv)/k)"
   ]
  },
  {
   "cell_type": "markdown",
   "id": "0684cfee",
   "metadata": {},
   "source": [
    "# Evaluation metrics:"
   ]
  },
  {
   "cell_type": "code",
   "execution_count": 126,
   "id": "aaed689f",
   "metadata": {},
   "outputs": [
    {
     "name": "stdout",
     "output_type": "stream",
     "text": [
      "RMSE of Linear Regression is:  26138.16913628544\n",
      "RMSE of Support Vector Regression is:  28972.55483327996\n",
      "RMSE of Dicision Tree Regressor is:  30907.983503036492\n",
      "RMSE of Random Forest Regressor is:  26477.09767154148\n",
      "RMSE of K Neighbors Regressor is:  24489.504688261124\n"
     ]
    }
   ],
   "source": [
    "sq_errorlr=mean_squared_error(y_test,y_pred_lr)\n",
    "sq_errorsvr=mean_squared_error(y_test,y_pred_svr)\n",
    "sq_errordtr=mean_squared_error(y_test,y_pred_dt)\n",
    "sq_errorrfr=mean_squared_error(y_test,y_pred_rf)\n",
    "sq_errorknr=mean_squared_error(y_test,y_pred_knn)\n",
    "\n",
    "rmse_lr=sqrt(sq_errorlr)                              #rmse=roof mean squared error\n",
    "rmse_svr=sqrt(sq_errorsvr)\n",
    "rmse_dtr=sqrt(sq_errordtr)\n",
    "rmse_rfr=sqrt(sq_errorrfr)\n",
    "rmse_knr=sqrt(sq_errorknr)\n",
    "\n",
    "print(\"RMSE of Linear Regression is: \", rmse_lr)\n",
    "print(\"RMSE of Support Vector Regression is: \",rmse_svr)\n",
    "print(\"RMSE of Dicision Tree Regressor is: \",rmse_dtr)\n",
    "print(\"RMSE of Random Forest Regressor is: \",rmse_rfr)\n",
    "print(\"RMSE of K Neighbors Regressor is: \",rmse_knr)"
   ]
  },
  {
   "cell_type": "markdown",
   "id": "1bc9766c",
   "metadata": {},
   "source": [
    "KNeighbors regression has the lowest RMSE, followed by linear regression, Random forest regression,support vector regression, and decision tree regressor"
   ]
  },
  {
   "cell_type": "code",
   "execution_count": 128,
   "id": "2593a4c8",
   "metadata": {},
   "outputs": [
    {
     "name": "stdout",
     "output_type": "stream",
     "text": [
      "R2 Score for Linear Regression is: 0.1436123031395946\n",
      "R2 Score for Support Vector Regression is: -0.05218880964528472\n",
      "R2 Score for Decision Tree Regressor is: -0.1974611582417003\n",
      "R2 Score for Random Forest Regressor is: 0.12125908772257565\n",
      "R2 Score for K Neighbors Regressor is: 0.24823847563870727\n"
     ]
    }
   ],
   "source": [
    "#R2 Score for the model:\n",
    "\n",
    "print(\"R2 Score for Linear Regression is:\",r2_score(y_test,y_pred_lr))\n",
    "print(\"R2 Score for Support Vector Regression is:\",r2_score(y_test,y_pred_svr))\n",
    "print(\"R2 Score for Decision Tree Regressor is:\",r2_score(y_test,y_pred_dt))\n",
    "print(\"R2 Score for Random Forest Regressor is:\",r2_score(y_test,y_pred_rf))\n",
    "print(\"R2 Score for K Neighbors Regressor is:\",r2_score(y_test,y_pred_knn))"
   ]
  },
  {
   "cell_type": "markdown",
   "id": "fa83dacf",
   "metadata": {},
   "source": [
    "We use R2 score to evaluate the model and check the accuracy by which we would be able to choose our best regression model."
   ]
  },
  {
   "cell_type": "markdown",
   "id": "34764cc5",
   "metadata": {},
   "source": [
    "KN regression has the highest R2 score of 21% and the lowest RMSE of 25013.308% as compared to all the other models"
   ]
  },
  {
   "cell_type": "markdown",
   "id": "444af07d",
   "metadata": {},
   "source": [
    "# Saving the model:"
   ]
  },
  {
   "cell_type": "code",
   "execution_count": 129,
   "id": "9aa0d31e",
   "metadata": {},
   "outputs": [],
   "source": [
    "file=\"Final_salary_prediction.pkl\"\n",
    "pickle.dump(knn,open(file,'wb'))"
   ]
  },
  {
   "cell_type": "code",
   "execution_count": 130,
   "id": "50dd5e5b",
   "metadata": {},
   "outputs": [
    {
     "data": {
      "text/html": [
       "<div>\n",
       "<style scoped>\n",
       "    .dataframe tbody tr th:only-of-type {\n",
       "        vertical-align: middle;\n",
       "    }\n",
       "\n",
       "    .dataframe tbody tr th {\n",
       "        vertical-align: top;\n",
       "    }\n",
       "\n",
       "    .dataframe thead th {\n",
       "        text-align: right;\n",
       "    }\n",
       "</style>\n",
       "<table border=\"1\" class=\"dataframe\">\n",
       "  <thead>\n",
       "    <tr style=\"text-align: right;\">\n",
       "      <th></th>\n",
       "      <th>original</th>\n",
       "      <th>predicted</th>\n",
       "    </tr>\n",
       "  </thead>\n",
       "  <tbody>\n",
       "    <tr>\n",
       "      <th>0</th>\n",
       "      <td>176500</td>\n",
       "      <td>142866.2</td>\n",
       "    </tr>\n",
       "    <tr>\n",
       "      <th>1</th>\n",
       "      <td>81500</td>\n",
       "      <td>92603.8</td>\n",
       "    </tr>\n",
       "    <tr>\n",
       "      <th>2</th>\n",
       "      <td>141136</td>\n",
       "      <td>122456.6</td>\n",
       "    </tr>\n",
       "    <tr>\n",
       "      <th>3</th>\n",
       "      <td>92550</td>\n",
       "      <td>137378.6</td>\n",
       "    </tr>\n",
       "    <tr>\n",
       "      <th>4</th>\n",
       "      <td>116518</td>\n",
       "      <td>116557.2</td>\n",
       "    </tr>\n",
       "    <tr>\n",
       "      <th>...</th>\n",
       "      <td>...</td>\n",
       "      <td>...</td>\n",
       "    </tr>\n",
       "    <tr>\n",
       "      <th>94</th>\n",
       "      <td>105631</td>\n",
       "      <td>89854.0</td>\n",
       "    </tr>\n",
       "    <tr>\n",
       "      <th>95</th>\n",
       "      <td>88600</td>\n",
       "      <td>112948.4</td>\n",
       "    </tr>\n",
       "    <tr>\n",
       "      <th>96</th>\n",
       "      <td>140096</td>\n",
       "      <td>118132.6</td>\n",
       "    </tr>\n",
       "    <tr>\n",
       "      <th>97</th>\n",
       "      <td>90450</td>\n",
       "      <td>83119.4</td>\n",
       "    </tr>\n",
       "    <tr>\n",
       "      <th>98</th>\n",
       "      <td>139750</td>\n",
       "      <td>116001.6</td>\n",
       "    </tr>\n",
       "  </tbody>\n",
       "</table>\n",
       "<p>99 rows × 2 columns</p>\n",
       "</div>"
      ],
      "text/plain": [
       "    original  predicted\n",
       "0     176500   142866.2\n",
       "1      81500    92603.8\n",
       "2     141136   122456.6\n",
       "3      92550   137378.6\n",
       "4     116518   116557.2\n",
       "..       ...        ...\n",
       "94    105631    89854.0\n",
       "95     88600   112948.4\n",
       "96    140096   118132.6\n",
       "97     90450    83119.4\n",
       "98    139750   116001.6\n",
       "\n",
       "[99 rows x 2 columns]"
      ]
     },
     "execution_count": 130,
     "metadata": {},
     "output_type": "execute_result"
    }
   ],
   "source": [
    "import numpy as np\n",
    "a=np.array(y_test)\n",
    "predicted=np.array(knn.predict(x_test))\n",
    "df_com=pd.DataFrame({\"original\":a,\"predicted\":predicted}, index=range(len(a)))\n",
    "df_com"
   ]
  },
  {
   "cell_type": "markdown",
   "id": "d6b4ebad",
   "metadata": {},
   "source": [
    "# Loading the model:"
   ]
  },
  {
   "cell_type": "code",
   "execution_count": 132,
   "id": "b1b6d996",
   "metadata": {},
   "outputs": [
    {
     "name": "stdout",
     "output_type": "stream",
     "text": [
      "24.82384756387073\n"
     ]
    }
   ],
   "source": [
    "load_model=pickle.load(open(file,'rb'))\n",
    "result=load_model.score(x_test,y_test)*100\n",
    "print(result)"
   ]
  },
  {
   "cell_type": "markdown",
   "id": "e829355e",
   "metadata": {},
   "source": [
    "Finally loaded the saved model and passed the unseen data set to predict the model score."
   ]
  }
 ],
 "metadata": {
  "kernelspec": {
   "display_name": "Python 3",
   "language": "python",
   "name": "python3"
  },
  "language_info": {
   "codemirror_mode": {
    "name": "ipython",
    "version": 3
   },
   "file_extension": ".py",
   "mimetype": "text/x-python",
   "name": "python",
   "nbconvert_exporter": "python",
   "pygments_lexer": "ipython3",
   "version": "3.8.8"
  }
 },
 "nbformat": 4,
 "nbformat_minor": 5
}
